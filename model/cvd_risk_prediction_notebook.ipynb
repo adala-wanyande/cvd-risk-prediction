{
  "nbformat": 4,
  "nbformat_minor": 0,
  "metadata": {
    "colab": {
      "provenance": []
    },
    "kernelspec": {
      "name": "python3",
      "display_name": "Python 3"
    },
    "language_info": {
      "name": "python"
    }
  },
  "cells": [
    {
      "cell_type": "markdown",
      "source": [
        "# Cardiovascular Disease (CVD) Risk Prediction Notebook"
      ],
      "metadata": {
        "id": "C9dakbdT7eBd"
      }
    },
    {
      "cell_type": "markdown",
      "source": [
        "# Installing dependencies"
      ],
      "metadata": {
        "id": "MICk9zEiJBXt"
      }
    },
    {
      "cell_type": "code",
      "source": [
        "import matplotlib.pyplot as plt\n",
        "import numpy as np\n",
        "import pandas as pd\n",
        "import pickle\n",
        "import seaborn as sns\n",
        "from IPython.display import Markdown, display\n",
        "from sklearn import preprocessing\n",
        "from sklearn.metrics import accuracy_score, classification_report, confusion_matrix, precision_score, recall_score, f1_score\n",
        "from sklearn.model_selection import train_test_split\n",
        "from sklearn.svm import SVC\n",
        "from tensorflow import keras\n",
        "from tensorflow.keras.callbacks import EarlyStopping\n",
        "from keras import layers, callbacks\n",
        "from keras.layers import Dense, Dropout"
      ],
      "metadata": {
        "id": "y8_b-Ev7JGZx"
      },
      "execution_count": 29,
      "outputs": []
    },
    {
      "cell_type": "markdown",
      "source": [
        "# Loading the dataset"
      ],
      "metadata": {
        "id": "Uylg5dOrJPH7"
      }
    },
    {
      "cell_type": "code",
      "source": [
        "df = pd.read_csv('./CVD_cleaned.csv')\n",
        "df.head()"
      ],
      "metadata": {
        "colab": {
          "base_uri": "https://localhost:8080/",
          "height": 399
        },
        "id": "d-PjmE-4JURk",
        "outputId": "615c015b-a4e1-441d-8421-169e22093fed"
      },
      "execution_count": 4,
      "outputs": [
        {
          "output_type": "execute_result",
          "data": {
            "text/plain": [
              "  General_Health                  Checkup Exercise Heart_Disease Skin_Cancer  \\\n",
              "0           Poor  Within the past 2 years       No            No          No   \n",
              "1      Very Good     Within the past year       No           Yes          No   \n",
              "2      Very Good     Within the past year      Yes            No          No   \n",
              "3           Poor     Within the past year      Yes           Yes          No   \n",
              "4           Good     Within the past year       No            No          No   \n",
              "\n",
              "  Other_Cancer Depression Diabetes Arthritis     Sex Age_Category  \\\n",
              "0           No         No       No       Yes  Female        70-74   \n",
              "1           No         No      Yes        No  Female        70-74   \n",
              "2           No         No      Yes        No  Female        60-64   \n",
              "3           No         No      Yes        No    Male        75-79   \n",
              "4           No         No       No        No    Male          80+   \n",
              "\n",
              "   Height_(cm)  Weight_(kg)    BMI Smoking_History  Alcohol_Consumption  \\\n",
              "0        150.0        32.66  14.54             Yes                  0.0   \n",
              "1        165.0        77.11  28.29              No                  0.0   \n",
              "2        163.0        88.45  33.47              No                  4.0   \n",
              "3        180.0        93.44  28.73              No                  0.0   \n",
              "4        191.0        88.45  24.37             Yes                  0.0   \n",
              "\n",
              "   Fruit_Consumption  Green_Vegetables_Consumption  FriedPotato_Consumption  \n",
              "0               30.0                          16.0                     12.0  \n",
              "1               30.0                           0.0                      4.0  \n",
              "2               12.0                           3.0                     16.0  \n",
              "3               30.0                          30.0                      8.0  \n",
              "4                8.0                           4.0                      0.0  "
            ],
            "text/html": [
              "\n",
              "  <div id=\"df-bf31060f-ea6c-429e-bd32-257ee2d1d6b6\" class=\"colab-df-container\">\n",
              "    <div>\n",
              "<style scoped>\n",
              "    .dataframe tbody tr th:only-of-type {\n",
              "        vertical-align: middle;\n",
              "    }\n",
              "\n",
              "    .dataframe tbody tr th {\n",
              "        vertical-align: top;\n",
              "    }\n",
              "\n",
              "    .dataframe thead th {\n",
              "        text-align: right;\n",
              "    }\n",
              "</style>\n",
              "<table border=\"1\" class=\"dataframe\">\n",
              "  <thead>\n",
              "    <tr style=\"text-align: right;\">\n",
              "      <th></th>\n",
              "      <th>General_Health</th>\n",
              "      <th>Checkup</th>\n",
              "      <th>Exercise</th>\n",
              "      <th>Heart_Disease</th>\n",
              "      <th>Skin_Cancer</th>\n",
              "      <th>Other_Cancer</th>\n",
              "      <th>Depression</th>\n",
              "      <th>Diabetes</th>\n",
              "      <th>Arthritis</th>\n",
              "      <th>Sex</th>\n",
              "      <th>Age_Category</th>\n",
              "      <th>Height_(cm)</th>\n",
              "      <th>Weight_(kg)</th>\n",
              "      <th>BMI</th>\n",
              "      <th>Smoking_History</th>\n",
              "      <th>Alcohol_Consumption</th>\n",
              "      <th>Fruit_Consumption</th>\n",
              "      <th>Green_Vegetables_Consumption</th>\n",
              "      <th>FriedPotato_Consumption</th>\n",
              "    </tr>\n",
              "  </thead>\n",
              "  <tbody>\n",
              "    <tr>\n",
              "      <th>0</th>\n",
              "      <td>Poor</td>\n",
              "      <td>Within the past 2 years</td>\n",
              "      <td>No</td>\n",
              "      <td>No</td>\n",
              "      <td>No</td>\n",
              "      <td>No</td>\n",
              "      <td>No</td>\n",
              "      <td>No</td>\n",
              "      <td>Yes</td>\n",
              "      <td>Female</td>\n",
              "      <td>70-74</td>\n",
              "      <td>150.0</td>\n",
              "      <td>32.66</td>\n",
              "      <td>14.54</td>\n",
              "      <td>Yes</td>\n",
              "      <td>0.0</td>\n",
              "      <td>30.0</td>\n",
              "      <td>16.0</td>\n",
              "      <td>12.0</td>\n",
              "    </tr>\n",
              "    <tr>\n",
              "      <th>1</th>\n",
              "      <td>Very Good</td>\n",
              "      <td>Within the past year</td>\n",
              "      <td>No</td>\n",
              "      <td>Yes</td>\n",
              "      <td>No</td>\n",
              "      <td>No</td>\n",
              "      <td>No</td>\n",
              "      <td>Yes</td>\n",
              "      <td>No</td>\n",
              "      <td>Female</td>\n",
              "      <td>70-74</td>\n",
              "      <td>165.0</td>\n",
              "      <td>77.11</td>\n",
              "      <td>28.29</td>\n",
              "      <td>No</td>\n",
              "      <td>0.0</td>\n",
              "      <td>30.0</td>\n",
              "      <td>0.0</td>\n",
              "      <td>4.0</td>\n",
              "    </tr>\n",
              "    <tr>\n",
              "      <th>2</th>\n",
              "      <td>Very Good</td>\n",
              "      <td>Within the past year</td>\n",
              "      <td>Yes</td>\n",
              "      <td>No</td>\n",
              "      <td>No</td>\n",
              "      <td>No</td>\n",
              "      <td>No</td>\n",
              "      <td>Yes</td>\n",
              "      <td>No</td>\n",
              "      <td>Female</td>\n",
              "      <td>60-64</td>\n",
              "      <td>163.0</td>\n",
              "      <td>88.45</td>\n",
              "      <td>33.47</td>\n",
              "      <td>No</td>\n",
              "      <td>4.0</td>\n",
              "      <td>12.0</td>\n",
              "      <td>3.0</td>\n",
              "      <td>16.0</td>\n",
              "    </tr>\n",
              "    <tr>\n",
              "      <th>3</th>\n",
              "      <td>Poor</td>\n",
              "      <td>Within the past year</td>\n",
              "      <td>Yes</td>\n",
              "      <td>Yes</td>\n",
              "      <td>No</td>\n",
              "      <td>No</td>\n",
              "      <td>No</td>\n",
              "      <td>Yes</td>\n",
              "      <td>No</td>\n",
              "      <td>Male</td>\n",
              "      <td>75-79</td>\n",
              "      <td>180.0</td>\n",
              "      <td>93.44</td>\n",
              "      <td>28.73</td>\n",
              "      <td>No</td>\n",
              "      <td>0.0</td>\n",
              "      <td>30.0</td>\n",
              "      <td>30.0</td>\n",
              "      <td>8.0</td>\n",
              "    </tr>\n",
              "    <tr>\n",
              "      <th>4</th>\n",
              "      <td>Good</td>\n",
              "      <td>Within the past year</td>\n",
              "      <td>No</td>\n",
              "      <td>No</td>\n",
              "      <td>No</td>\n",
              "      <td>No</td>\n",
              "      <td>No</td>\n",
              "      <td>No</td>\n",
              "      <td>No</td>\n",
              "      <td>Male</td>\n",
              "      <td>80+</td>\n",
              "      <td>191.0</td>\n",
              "      <td>88.45</td>\n",
              "      <td>24.37</td>\n",
              "      <td>Yes</td>\n",
              "      <td>0.0</td>\n",
              "      <td>8.0</td>\n",
              "      <td>4.0</td>\n",
              "      <td>0.0</td>\n",
              "    </tr>\n",
              "  </tbody>\n",
              "</table>\n",
              "</div>\n",
              "    <div class=\"colab-df-buttons\">\n",
              "\n",
              "  <div class=\"colab-df-container\">\n",
              "    <button class=\"colab-df-convert\" onclick=\"convertToInteractive('df-bf31060f-ea6c-429e-bd32-257ee2d1d6b6')\"\n",
              "            title=\"Convert this dataframe to an interactive table.\"\n",
              "            style=\"display:none;\">\n",
              "\n",
              "  <svg xmlns=\"http://www.w3.org/2000/svg\" height=\"24px\" viewBox=\"0 -960 960 960\">\n",
              "    <path d=\"M120-120v-720h720v720H120Zm60-500h600v-160H180v160Zm220 220h160v-160H400v160Zm0 220h160v-160H400v160ZM180-400h160v-160H180v160Zm440 0h160v-160H620v160ZM180-180h160v-160H180v160Zm440 0h160v-160H620v160Z\"/>\n",
              "  </svg>\n",
              "    </button>\n",
              "\n",
              "  <style>\n",
              "    .colab-df-container {\n",
              "      display:flex;\n",
              "      gap: 12px;\n",
              "    }\n",
              "\n",
              "    .colab-df-convert {\n",
              "      background-color: #E8F0FE;\n",
              "      border: none;\n",
              "      border-radius: 50%;\n",
              "      cursor: pointer;\n",
              "      display: none;\n",
              "      fill: #1967D2;\n",
              "      height: 32px;\n",
              "      padding: 0 0 0 0;\n",
              "      width: 32px;\n",
              "    }\n",
              "\n",
              "    .colab-df-convert:hover {\n",
              "      background-color: #E2EBFA;\n",
              "      box-shadow: 0px 1px 2px rgba(60, 64, 67, 0.3), 0px 1px 3px 1px rgba(60, 64, 67, 0.15);\n",
              "      fill: #174EA6;\n",
              "    }\n",
              "\n",
              "    .colab-df-buttons div {\n",
              "      margin-bottom: 4px;\n",
              "    }\n",
              "\n",
              "    [theme=dark] .colab-df-convert {\n",
              "      background-color: #3B4455;\n",
              "      fill: #D2E3FC;\n",
              "    }\n",
              "\n",
              "    [theme=dark] .colab-df-convert:hover {\n",
              "      background-color: #434B5C;\n",
              "      box-shadow: 0px 1px 3px 1px rgba(0, 0, 0, 0.15);\n",
              "      filter: drop-shadow(0px 1px 2px rgba(0, 0, 0, 0.3));\n",
              "      fill: #FFFFFF;\n",
              "    }\n",
              "  </style>\n",
              "\n",
              "    <script>\n",
              "      const buttonEl =\n",
              "        document.querySelector('#df-bf31060f-ea6c-429e-bd32-257ee2d1d6b6 button.colab-df-convert');\n",
              "      buttonEl.style.display =\n",
              "        google.colab.kernel.accessAllowed ? 'block' : 'none';\n",
              "\n",
              "      async function convertToInteractive(key) {\n",
              "        const element = document.querySelector('#df-bf31060f-ea6c-429e-bd32-257ee2d1d6b6');\n",
              "        const dataTable =\n",
              "          await google.colab.kernel.invokeFunction('convertToInteractive',\n",
              "                                                    [key], {});\n",
              "        if (!dataTable) return;\n",
              "\n",
              "        const docLinkHtml = 'Like what you see? Visit the ' +\n",
              "          '<a target=\"_blank\" href=https://colab.research.google.com/notebooks/data_table.ipynb>data table notebook</a>'\n",
              "          + ' to learn more about interactive tables.';\n",
              "        element.innerHTML = '';\n",
              "        dataTable['output_type'] = 'display_data';\n",
              "        await google.colab.output.renderOutput(dataTable, element);\n",
              "        const docLink = document.createElement('div');\n",
              "        docLink.innerHTML = docLinkHtml;\n",
              "        element.appendChild(docLink);\n",
              "      }\n",
              "    </script>\n",
              "  </div>\n",
              "\n",
              "\n",
              "<div id=\"df-ca23c037-8012-478a-841c-81574e80b5e9\">\n",
              "  <button class=\"colab-df-quickchart\" onclick=\"quickchart('df-ca23c037-8012-478a-841c-81574e80b5e9')\"\n",
              "            title=\"Suggest charts.\"\n",
              "            style=\"display:none;\">\n",
              "\n",
              "<svg xmlns=\"http://www.w3.org/2000/svg\" height=\"24px\"viewBox=\"0 0 24 24\"\n",
              "     width=\"24px\">\n",
              "    <g>\n",
              "        <path d=\"M19 3H5c-1.1 0-2 .9-2 2v14c0 1.1.9 2 2 2h14c1.1 0 2-.9 2-2V5c0-1.1-.9-2-2-2zM9 17H7v-7h2v7zm4 0h-2V7h2v10zm4 0h-2v-4h2v4z\"/>\n",
              "    </g>\n",
              "</svg>\n",
              "  </button>\n",
              "\n",
              "<style>\n",
              "  .colab-df-quickchart {\n",
              "      --bg-color: #E8F0FE;\n",
              "      --fill-color: #1967D2;\n",
              "      --hover-bg-color: #E2EBFA;\n",
              "      --hover-fill-color: #174EA6;\n",
              "      --disabled-fill-color: #AAA;\n",
              "      --disabled-bg-color: #DDD;\n",
              "  }\n",
              "\n",
              "  [theme=dark] .colab-df-quickchart {\n",
              "      --bg-color: #3B4455;\n",
              "      --fill-color: #D2E3FC;\n",
              "      --hover-bg-color: #434B5C;\n",
              "      --hover-fill-color: #FFFFFF;\n",
              "      --disabled-bg-color: #3B4455;\n",
              "      --disabled-fill-color: #666;\n",
              "  }\n",
              "\n",
              "  .colab-df-quickchart {\n",
              "    background-color: var(--bg-color);\n",
              "    border: none;\n",
              "    border-radius: 50%;\n",
              "    cursor: pointer;\n",
              "    display: none;\n",
              "    fill: var(--fill-color);\n",
              "    height: 32px;\n",
              "    padding: 0;\n",
              "    width: 32px;\n",
              "  }\n",
              "\n",
              "  .colab-df-quickchart:hover {\n",
              "    background-color: var(--hover-bg-color);\n",
              "    box-shadow: 0 1px 2px rgba(60, 64, 67, 0.3), 0 1px 3px 1px rgba(60, 64, 67, 0.15);\n",
              "    fill: var(--button-hover-fill-color);\n",
              "  }\n",
              "\n",
              "  .colab-df-quickchart-complete:disabled,\n",
              "  .colab-df-quickchart-complete:disabled:hover {\n",
              "    background-color: var(--disabled-bg-color);\n",
              "    fill: var(--disabled-fill-color);\n",
              "    box-shadow: none;\n",
              "  }\n",
              "\n",
              "  .colab-df-spinner {\n",
              "    border: 2px solid var(--fill-color);\n",
              "    border-color: transparent;\n",
              "    border-bottom-color: var(--fill-color);\n",
              "    animation:\n",
              "      spin 1s steps(1) infinite;\n",
              "  }\n",
              "\n",
              "  @keyframes spin {\n",
              "    0% {\n",
              "      border-color: transparent;\n",
              "      border-bottom-color: var(--fill-color);\n",
              "      border-left-color: var(--fill-color);\n",
              "    }\n",
              "    20% {\n",
              "      border-color: transparent;\n",
              "      border-left-color: var(--fill-color);\n",
              "      border-top-color: var(--fill-color);\n",
              "    }\n",
              "    30% {\n",
              "      border-color: transparent;\n",
              "      border-left-color: var(--fill-color);\n",
              "      border-top-color: var(--fill-color);\n",
              "      border-right-color: var(--fill-color);\n",
              "    }\n",
              "    40% {\n",
              "      border-color: transparent;\n",
              "      border-right-color: var(--fill-color);\n",
              "      border-top-color: var(--fill-color);\n",
              "    }\n",
              "    60% {\n",
              "      border-color: transparent;\n",
              "      border-right-color: var(--fill-color);\n",
              "    }\n",
              "    80% {\n",
              "      border-color: transparent;\n",
              "      border-right-color: var(--fill-color);\n",
              "      border-bottom-color: var(--fill-color);\n",
              "    }\n",
              "    90% {\n",
              "      border-color: transparent;\n",
              "      border-bottom-color: var(--fill-color);\n",
              "    }\n",
              "  }\n",
              "</style>\n",
              "\n",
              "  <script>\n",
              "    async function quickchart(key) {\n",
              "      const quickchartButtonEl =\n",
              "        document.querySelector('#' + key + ' button');\n",
              "      quickchartButtonEl.disabled = true;  // To prevent multiple clicks.\n",
              "      quickchartButtonEl.classList.add('colab-df-spinner');\n",
              "      try {\n",
              "        const charts = await google.colab.kernel.invokeFunction(\n",
              "            'suggestCharts', [key], {});\n",
              "      } catch (error) {\n",
              "        console.error('Error during call to suggestCharts:', error);\n",
              "      }\n",
              "      quickchartButtonEl.classList.remove('colab-df-spinner');\n",
              "      quickchartButtonEl.classList.add('colab-df-quickchart-complete');\n",
              "    }\n",
              "    (() => {\n",
              "      let quickchartButtonEl =\n",
              "        document.querySelector('#df-ca23c037-8012-478a-841c-81574e80b5e9 button');\n",
              "      quickchartButtonEl.style.display =\n",
              "        google.colab.kernel.accessAllowed ? 'block' : 'none';\n",
              "    })();\n",
              "  </script>\n",
              "</div>\n",
              "    </div>\n",
              "  </div>\n"
            ]
          },
          "metadata": {},
          "execution_count": 4
        }
      ]
    },
    {
      "cell_type": "markdown",
      "source": [
        "# Exploring the dataset\n",
        "\n",
        "Here we can see each column (feature) in the dataframe.\n",
        "\n"
      ],
      "metadata": {
        "id": "_Bb9sIaaJ_bF"
      }
    },
    {
      "cell_type": "code",
      "source": [
        "df.isnull().sum()"
      ],
      "metadata": {
        "colab": {
          "base_uri": "https://localhost:8080/"
        },
        "id": "_k1Iti8xJ-p5",
        "outputId": "bbcb5d95-0fa7-4e10-d0d1-b6eba032155f"
      },
      "execution_count": 5,
      "outputs": [
        {
          "output_type": "execute_result",
          "data": {
            "text/plain": [
              "General_Health                  0\n",
              "Checkup                         0\n",
              "Exercise                        0\n",
              "Heart_Disease                   0\n",
              "Skin_Cancer                     0\n",
              "Other_Cancer                    0\n",
              "Depression                      0\n",
              "Diabetes                        0\n",
              "Arthritis                       0\n",
              "Sex                             0\n",
              "Age_Category                    0\n",
              "Height_(cm)                     0\n",
              "Weight_(kg)                     0\n",
              "BMI                             0\n",
              "Smoking_History                 0\n",
              "Alcohol_Consumption             0\n",
              "Fruit_Consumption               0\n",
              "Green_Vegetables_Consumption    0\n",
              "FriedPotato_Consumption         0\n",
              "dtype: int64"
            ]
          },
          "metadata": {},
          "execution_count": 5
        }
      ]
    },
    {
      "cell_type": "markdown",
      "source": [
        "Here we can see that there is no null content within any of the columns in the dataframe."
      ],
      "metadata": {
        "id": "qrcmswTiKfS-"
      }
    },
    {
      "cell_type": "code",
      "source": [
        "df.info()"
      ],
      "metadata": {
        "colab": {
          "base_uri": "https://localhost:8080/"
        },
        "id": "6s-6f5krKsE-",
        "outputId": "319aec38-11ac-45aa-d582-63bdbe0f697f"
      },
      "execution_count": 6,
      "outputs": [
        {
          "output_type": "stream",
          "name": "stdout",
          "text": [
            "<class 'pandas.core.frame.DataFrame'>\n",
            "RangeIndex: 308854 entries, 0 to 308853\n",
            "Data columns (total 19 columns):\n",
            " #   Column                        Non-Null Count   Dtype  \n",
            "---  ------                        --------------   -----  \n",
            " 0   General_Health                308854 non-null  object \n",
            " 1   Checkup                       308854 non-null  object \n",
            " 2   Exercise                      308854 non-null  object \n",
            " 3   Heart_Disease                 308854 non-null  object \n",
            " 4   Skin_Cancer                   308854 non-null  object \n",
            " 5   Other_Cancer                  308854 non-null  object \n",
            " 6   Depression                    308854 non-null  object \n",
            " 7   Diabetes                      308854 non-null  object \n",
            " 8   Arthritis                     308854 non-null  object \n",
            " 9   Sex                           308854 non-null  object \n",
            " 10  Age_Category                  308854 non-null  object \n",
            " 11  Height_(cm)                   308854 non-null  float64\n",
            " 12  Weight_(kg)                   308854 non-null  float64\n",
            " 13  BMI                           308854 non-null  float64\n",
            " 14  Smoking_History               308854 non-null  object \n",
            " 15  Alcohol_Consumption           308854 non-null  float64\n",
            " 16  Fruit_Consumption             308854 non-null  float64\n",
            " 17  Green_Vegetables_Consumption  308854 non-null  float64\n",
            " 18  FriedPotato_Consumption       308854 non-null  float64\n",
            "dtypes: float64(7), object(12)\n",
            "memory usage: 44.8+ MB\n"
          ]
        }
      ]
    },
    {
      "cell_type": "markdown",
      "source": [
        "Here we can see the complete range of responses provided for each column within the dataframe."
      ],
      "metadata": {
        "id": "1lLVFacTK10g"
      }
    },
    {
      "cell_type": "code",
      "source": [
        "for i in range(len(df.columns)):\n",
        "  print(df.columns[i])\n",
        "  print(df[df.columns[i]].unique())\n",
        "  display(Markdown('---'))\n"
      ],
      "metadata": {
        "colab": {
          "base_uri": "https://localhost:8080/",
          "height": 1000
        },
        "id": "uWAxyV6NK1Jm",
        "outputId": "473d189c-42a3-4d06-dab9-08f1d01733a9"
      },
      "execution_count": 7,
      "outputs": [
        {
          "output_type": "stream",
          "name": "stdout",
          "text": [
            "General_Health\n",
            "['Poor' 'Very Good' 'Good' 'Fair' 'Excellent']\n"
          ]
        },
        {
          "output_type": "display_data",
          "data": {
            "text/plain": [
              "<IPython.core.display.Markdown object>"
            ],
            "text/markdown": "---"
          },
          "metadata": {}
        },
        {
          "output_type": "stream",
          "name": "stdout",
          "text": [
            "Checkup\n",
            "['Within the past 2 years' 'Within the past year' '5 or more years ago'\n",
            " 'Within the past 5 years' 'Never']\n"
          ]
        },
        {
          "output_type": "display_data",
          "data": {
            "text/plain": [
              "<IPython.core.display.Markdown object>"
            ],
            "text/markdown": "---"
          },
          "metadata": {}
        },
        {
          "output_type": "stream",
          "name": "stdout",
          "text": [
            "Exercise\n",
            "['No' 'Yes']\n"
          ]
        },
        {
          "output_type": "display_data",
          "data": {
            "text/plain": [
              "<IPython.core.display.Markdown object>"
            ],
            "text/markdown": "---"
          },
          "metadata": {}
        },
        {
          "output_type": "stream",
          "name": "stdout",
          "text": [
            "Heart_Disease\n",
            "['No' 'Yes']\n"
          ]
        },
        {
          "output_type": "display_data",
          "data": {
            "text/plain": [
              "<IPython.core.display.Markdown object>"
            ],
            "text/markdown": "---"
          },
          "metadata": {}
        },
        {
          "output_type": "stream",
          "name": "stdout",
          "text": [
            "Skin_Cancer\n",
            "['No' 'Yes']\n"
          ]
        },
        {
          "output_type": "display_data",
          "data": {
            "text/plain": [
              "<IPython.core.display.Markdown object>"
            ],
            "text/markdown": "---"
          },
          "metadata": {}
        },
        {
          "output_type": "stream",
          "name": "stdout",
          "text": [
            "Other_Cancer\n",
            "['No' 'Yes']\n"
          ]
        },
        {
          "output_type": "display_data",
          "data": {
            "text/plain": [
              "<IPython.core.display.Markdown object>"
            ],
            "text/markdown": "---"
          },
          "metadata": {}
        },
        {
          "output_type": "stream",
          "name": "stdout",
          "text": [
            "Depression\n",
            "['No' 'Yes']\n"
          ]
        },
        {
          "output_type": "display_data",
          "data": {
            "text/plain": [
              "<IPython.core.display.Markdown object>"
            ],
            "text/markdown": "---"
          },
          "metadata": {}
        },
        {
          "output_type": "stream",
          "name": "stdout",
          "text": [
            "Diabetes\n",
            "['No' 'Yes' 'No, pre-diabetes or borderline diabetes'\n",
            " 'Yes, but female told only during pregnancy']\n"
          ]
        },
        {
          "output_type": "display_data",
          "data": {
            "text/plain": [
              "<IPython.core.display.Markdown object>"
            ],
            "text/markdown": "---"
          },
          "metadata": {}
        },
        {
          "output_type": "stream",
          "name": "stdout",
          "text": [
            "Arthritis\n",
            "['Yes' 'No']\n"
          ]
        },
        {
          "output_type": "display_data",
          "data": {
            "text/plain": [
              "<IPython.core.display.Markdown object>"
            ],
            "text/markdown": "---"
          },
          "metadata": {}
        },
        {
          "output_type": "stream",
          "name": "stdout",
          "text": [
            "Sex\n",
            "['Female' 'Male']\n"
          ]
        },
        {
          "output_type": "display_data",
          "data": {
            "text/plain": [
              "<IPython.core.display.Markdown object>"
            ],
            "text/markdown": "---"
          },
          "metadata": {}
        },
        {
          "output_type": "stream",
          "name": "stdout",
          "text": [
            "Age_Category\n",
            "['70-74' '60-64' '75-79' '80+' '65-69' '50-54' '45-49' '18-24' '30-34'\n",
            " '55-59' '35-39' '40-44' '25-29']\n"
          ]
        },
        {
          "output_type": "display_data",
          "data": {
            "text/plain": [
              "<IPython.core.display.Markdown object>"
            ],
            "text/markdown": "---"
          },
          "metadata": {}
        },
        {
          "output_type": "stream",
          "name": "stdout",
          "text": [
            "Height_(cm)\n",
            "[150. 165. 163. 180. 191. 183. 175. 160. 168. 178. 152. 157. 188. 185.\n",
            " 170. 173. 155. 193. 196. 206. 198. 140. 135. 145. 147. 142. 201. 218.\n",
            " 124. 203. 137. 122. 216. 224. 229. 151. 177. 164. 162. 156. 153. 169.\n",
            " 167. 172. 106. 190. 143. 171. 154. 176. 200. 146. 148. 158. 159. 187.\n",
            " 104. 120. 107. 211. 226. 182. 213.  97. 184. 125. 127. 234. 130. 119.\n",
            " 132. 105. 166. 181. 186.  91. 174. 208. 149.  96. 197. 161.  94. 103.\n",
            " 221. 134. 144. 189. 100. 179. 117.  99. 102. 110. 241. 115. 205. 195.\n",
            " 108.]\n"
          ]
        },
        {
          "output_type": "display_data",
          "data": {
            "text/plain": [
              "<IPython.core.display.Markdown object>"
            ],
            "text/markdown": "---"
          },
          "metadata": {}
        },
        {
          "output_type": "stream",
          "name": "stdout",
          "text": [
            "Weight_(kg)\n",
            "[ 32.66  77.11  88.45  93.44 154.22  69.85 108.86  72.57  91.63  74.84\n",
            "  73.48  83.91 113.4   52.16 116.12  99.79  81.65 104.33  79.38  55.79\n",
            " 124.74  81.19  70.31 112.49 147.42  84.82 102.06  64.41  60.78  61.23\n",
            "  88.    90.72  49.9   85.28 120.2   69.4   62.14  65.77  89.81  66.68\n",
            "  86.18  72.12  87.54  62.6   75.75  88.9   92.08  56.7   68.04  79.83\n",
            "  63.5   58.97 114.76  45.36  73.94  54.43 125.19  77.56  96.16  95.25\n",
            " 115.67  82.55 136.08  78.93  70.76  95.71  53.52  87.09  55.34  83.01\n",
            " 123.38  98.88  73.03  76.66  97.52  71.67  83.46 122.47  58.06  74.39\n",
            "  67.13  82.1   47.63  99.34  85.73 108.41  91.17  57.61  63.05  45.81\n",
            "  94.35  44.45 117.93 107.5  127.01 106.59 107.95  89.36  92.99  53.07\n",
            "  78.02 131.09  97.98  84.37 111.13  50.8   57.15  64.86  80.29  76.2\n",
            " 114.31  65.32  97.07  67.59  75.3  105.69 110.68  86.64  51.26  61.69\n",
            " 107.05  42.64  40.82 101.6   90.26 131.54  98.43  78.47  59.87  68.95\n",
            "  60.33  94.8   48.53  96.62 117.48 102.51  46.27 109.77  58.51  68.49\n",
            " 133.81 158.76  52.62  80.74  48.99 117.03  54.88  33.11  51.71  92.53\n",
            "  34.02  44.91 105.23 145.6  106.14  56.25 139.71 124.28 103.42  71.21\n",
            " 138.35 143.34 101.15 103.87 145.15  93.89  49.44  46.72 120.66 132.9\n",
            " 112.04 167.83 142.88  66.22  63.96 162.39 176.9  121.56 111.58 136.98\n",
            " 110.22 170.1  122.02 133.36 119.75 129.27 175.54 151.95 118.39 121.11\n",
            " 132.45 135.62 119.29 102.97 172.37 156.49  43.09  43.54 157.4   59.42\n",
            " 181.44 125.65 127.91 144.7  149.69 113.85 163.29 100.7  115.21 112.94\n",
            " 208.65 127.46 100.24 136.53  50.35 130.63 122.92 141.97  47.17 142.43\n",
            " 132.   118.84 116.57 151.5  137.44  72.   140.61 169.19  44.   160.57\n",
            " 104.78 130.18  65.   134.72  48.08 139.25  53.98  36.29 129.73  38.56\n",
            " 228.16 166.92 148.32 174.63 146.96 235.87 161.03 152.86 105.    75.\n",
            " 109.   123.83 165.56  42.18 134.26 140.16 228.61 128.82  39.92  78.\n",
            " 109.32 204.12  85.   141.52 161.48 185.97  90.    61.    95.    60.\n",
            "  45.   126.1   82.   137.89  70.    64.   100.    63.   126.55 135.17\n",
            "  74.   150.59  83.   189.15 143.79  97.    73.    54.    80.   164.2\n",
            "  55.   155.13  52.    67.   144.24  68.   226.8   62.    76.   190.51\n",
            " 146.51 188.24 199.58  79.    96.   152.41  58.   138.8  118.   165.11\n",
            " 153.31  84.    38.1   41.73  39.01  37.19  87.   128.37 156.04 187.79\n",
            " 168.28 136.    35.38 166.01 213.19  89.    66.    40.37  81.   210.92\n",
            "  50.   155.58  25.4  224.53 179.17 159.66 176.45 209.56 151.05 148.78\n",
            " 217.72 146.06 140.   219.99  86.   141.07 110.    92.    31.75  41.28\n",
            "  33.57 130.    48.   161.93  94.    98.   183.25  53.    34.47 120.\n",
            "  77.   183.7  272.16 171.46 206.84  26.76 200.    69.   101.   180.53\n",
            "  47.   126.    59.   215.46 175.99 166.47 184.61 153.77  39.46 174.18\n",
            " 186.43  46.    40.   195.04 104.   201.85 147.87 192.78  36.74 162.84\n",
            " 134.   157.85 191.87 272.61  51.   231.33  37.65  93.    56.   149.23\n",
            " 154.68 158.3  194.59 179.62 159.   210.47 180.98 169.64 285.76 177.81\n",
            " 119.   150.   159.21 167.38 244.03 163.75 168.74 173.27 227.7   99.\n",
            " 200.94 229.52 219.54 232.69 175.09 229.97 293.02 200.49 195.95 190.96\n",
            " 212.73 150.14 229.06 178.72 181.89  34.93 171.   156.94 176.    57.\n",
            "  71.   103.   254.01  30.84 249.48 240.4  238.14 205.93 273.52 215.\n",
            " 187.33 182.   164.65 233.6   29.94 199.13 185.07 216.36 186.88 189.6\n",
            " 173.73 219.09  24.95 203.21 210.01  35.83 190.06 116.   197.31 154.\n",
            " 180.08 102.   222.26 202.76  27.22 206.38 135.   170.55 160.    43.\n",
            " 188.69 106.   177.35 112.   160.12 195.   172.82 220.45 184.16 185.52\n",
            "  26.31  41.   274.42 207.75 180.   175.   141.   230.88 222.71 258.55\n",
            " 203.66 113.   182.34 195.5  191.42 215.91 178.26 257.64 244.94 263.08\n",
            " 214.1  117.   172.   115.   185.   247.21  39.   193.68 127.    30.\n",
            " 250.   252.2  283.5   49.    42.  ]\n"
          ]
        },
        {
          "output_type": "display_data",
          "data": {
            "text/plain": [
              "<IPython.core.display.Markdown object>"
            ],
            "text/markdown": "---"
          },
          "metadata": {}
        },
        {
          "output_type": "stream",
          "name": "stdout",
          "text": [
            "BMI\n",
            "[14.54 28.29 33.47 ... 63.83 19.09 56.32]\n"
          ]
        },
        {
          "output_type": "display_data",
          "data": {
            "text/plain": [
              "<IPython.core.display.Markdown object>"
            ],
            "text/markdown": "---"
          },
          "metadata": {}
        },
        {
          "output_type": "stream",
          "name": "stdout",
          "text": [
            "Smoking_History\n",
            "['Yes' 'No']\n"
          ]
        },
        {
          "output_type": "display_data",
          "data": {
            "text/plain": [
              "<IPython.core.display.Markdown object>"
            ],
            "text/markdown": "---"
          },
          "metadata": {}
        },
        {
          "output_type": "stream",
          "name": "stdout",
          "text": [
            "Alcohol_Consumption\n",
            "[ 0.  4.  3.  8. 30.  2. 12.  1.  5. 10. 20. 17. 16.  6. 25. 28. 15.  7.\n",
            "  9. 24. 11. 29. 27. 14. 21. 23. 18. 26. 22. 13. 19.]\n"
          ]
        },
        {
          "output_type": "display_data",
          "data": {
            "text/plain": [
              "<IPython.core.display.Markdown object>"
            ],
            "text/markdown": "---"
          },
          "metadata": {}
        },
        {
          "output_type": "stream",
          "name": "stdout",
          "text": [
            "Fruit_Consumption\n",
            "[ 30.  12.   8.  16.   2.   1.  60.   0.   7.   5.   3.   6.  90.  28.\n",
            "  20.   4.  80.  24.  15.  10.  25.  14. 120.  32.  40.  17.  45. 100.\n",
            "   9.  99.  96.  35.  50.  56.  48.  27.  72.  36.  84.  26.  23.  18.\n",
            "  21.  42.  22.  11. 112.  29.  64.  70.  33.  76.  44.  39.  75.  31.\n",
            "  92. 104.  88.  65.  55.  13.  38.  63.  97. 108.  19.  52.  98.  37.\n",
            "  68.  34.  41. 116.  54.  62.  85.]\n"
          ]
        },
        {
          "output_type": "display_data",
          "data": {
            "text/plain": [
              "<IPython.core.display.Markdown object>"
            ],
            "text/markdown": "---"
          },
          "metadata": {}
        },
        {
          "output_type": "stream",
          "name": "stdout",
          "text": [
            "Green_Vegetables_Consumption\n",
            "[ 16.   0.   3.  30.   4.  12.   8.  20.   1.  10.   5.   2.   6.  60.\n",
            "  28.  25.  14.  40.   7.  22.  24.  15. 120.  90.  19.  13.  11.  80.\n",
            "  27.  17.  56.  18.   9.  21.  99.  29.  31.  45.  23. 100. 104.  32.\n",
            "  48.  75.  36.  35. 112.  26.  50.  33.  96.  52.  76.  84.  34.  97.\n",
            "  88.  98.  68.  92.  55.  95.  64. 124.  61.  65.  77.  85.  44.  39.\n",
            "  70.  93. 128.  37.  53.]\n"
          ]
        },
        {
          "output_type": "display_data",
          "data": {
            "text/plain": [
              "<IPython.core.display.Markdown object>"
            ],
            "text/markdown": "---"
          },
          "metadata": {}
        },
        {
          "output_type": "stream",
          "name": "stdout",
          "text": [
            "FriedPotato_Consumption\n",
            "[ 12.   4.  16.   8.   0.   1.   2.  30.  20.  15.  10.   3.   7.  28.\n",
            "   5.   9.   6. 120.  32.  14.  60.  33.  48.  25.  24.  21.  90.  13.\n",
            "  99.  17.  18.  40.  56.  34.  36.  44. 100.  11.  64.  45.  80.  29.\n",
            "  68.  26.  50.  22.  95.  23.  27. 112.  35.  31.  98.  96.  88.  92.\n",
            "  19.  76.  49.  97. 128.  41.  37.  42.  52.  72.  46. 124.  84.]\n"
          ]
        },
        {
          "output_type": "display_data",
          "data": {
            "text/plain": [
              "<IPython.core.display.Markdown object>"
            ],
            "text/markdown": "---"
          },
          "metadata": {}
        }
      ]
    },
    {
      "cell_type": "markdown",
      "source": [
        "Here we separate the columns into numerical and categorical."
      ],
      "metadata": {
        "id": "zNpZstLqLf6T"
      }
    },
    {
      "cell_type": "code",
      "source": [
        "numerical = df.select_dtypes(include=['float64']).columns.sort_values()\n",
        "categorical = df.select_dtypes(include=['object']).columns.sort_values()"
      ],
      "metadata": {
        "id": "5D1N8ynFLocw"
      },
      "execution_count": 8,
      "outputs": []
    },
    {
      "cell_type": "markdown",
      "source": [
        "# Exploratory Data Analysis\n",
        "\n",
        "We perform data analysis to get an ideal dataset to train in order to get the best accuracy."
      ],
      "metadata": {
        "id": "0uGvp8-iLt94"
      }
    },
    {
      "cell_type": "code",
      "source": [
        "print(f'There are {len(categorical)} Categorical variables')\n",
        "print(f'There are {len(numerical)} Numerical variables')"
      ],
      "metadata": {
        "colab": {
          "base_uri": "https://localhost:8080/"
        },
        "id": "GhX4IQqSLtBG",
        "outputId": "a3e6fbc2-2fc8-47fe-ec1e-cf6118e303b2"
      },
      "execution_count": 9,
      "outputs": [
        {
          "output_type": "stream",
          "name": "stdout",
          "text": [
            "There are 12 Categorical variables\n",
            "There are 7 Numerical variables\n"
          ]
        }
      ]
    },
    {
      "cell_type": "markdown",
      "source": [
        "Here we can see all the categorical columns listed."
      ],
      "metadata": {
        "id": "_MW4uKu3MXfz"
      }
    },
    {
      "cell_type": "code",
      "source": [
        "categorical"
      ],
      "metadata": {
        "colab": {
          "base_uri": "https://localhost:8080/"
        },
        "id": "vyijAq5_MOdL",
        "outputId": "b75283fc-522b-4c84-e6d6-2be5c85b8faa"
      },
      "execution_count": 10,
      "outputs": [
        {
          "output_type": "execute_result",
          "data": {
            "text/plain": [
              "Index(['Age_Category', 'Arthritis', 'Checkup', 'Depression', 'Diabetes',\n",
              "       'Exercise', 'General_Health', 'Heart_Disease', 'Other_Cancer', 'Sex',\n",
              "       'Skin_Cancer', 'Smoking_History'],\n",
              "      dtype='object')"
            ]
          },
          "metadata": {},
          "execution_count": 10
        }
      ]
    },
    {
      "cell_type": "markdown",
      "source": [
        "Here we can see all the numerical columns listed."
      ],
      "metadata": {
        "id": "x6XExi01MblH"
      }
    },
    {
      "cell_type": "code",
      "source": [
        "numerical"
      ],
      "metadata": {
        "colab": {
          "base_uri": "https://localhost:8080/"
        },
        "id": "Ko2TKc9wMRdd",
        "outputId": "491c054d-e407-42c7-fddb-3c7104bfabcb"
      },
      "execution_count": 11,
      "outputs": [
        {
          "output_type": "execute_result",
          "data": {
            "text/plain": [
              "Index(['Alcohol_Consumption', 'BMI', 'FriedPotato_Consumption',\n",
              "       'Fruit_Consumption', 'Green_Vegetables_Consumption', 'Height_(cm)',\n",
              "       'Weight_(kg)'],\n",
              "      dtype='object')"
            ]
          },
          "metadata": {},
          "execution_count": 11
        }
      ]
    },
    {
      "cell_type": "markdown",
      "source": [
        "Here we perform label encoding on the categorical data. It's done to convert categorical variables into numerical format, as machine learning algorithms and statistical models require numerical input."
      ],
      "metadata": {
        "id": "rwJrrhh6Mk3o"
      }
    },
    {
      "cell_type": "code",
      "source": [
        "label_encoder = preprocessing.LabelEncoder()\n",
        "\n",
        "for i in (df[categorical]):\n",
        "  df[i] = label_encoder.fit_transform(df[i])\n",
        "\n",
        "df.head()"
      ],
      "metadata": {
        "colab": {
          "base_uri": "https://localhost:8080/",
          "height": 226
        },
        "id": "Bxx0E4r7Mib-",
        "outputId": "31b9ed6e-9cba-4ac7-ce45-3341691b878d"
      },
      "execution_count": 12,
      "outputs": [
        {
          "output_type": "execute_result",
          "data": {
            "text/plain": [
              "   General_Health  Checkup  Exercise  Heart_Disease  Skin_Cancer  \\\n",
              "0               3        2         0              0            0   \n",
              "1               4        4         0              1            0   \n",
              "2               4        4         1              0            0   \n",
              "3               3        4         1              1            0   \n",
              "4               2        4         0              0            0   \n",
              "\n",
              "   Other_Cancer  Depression  Diabetes  Arthritis  Sex  Age_Category  \\\n",
              "0             0           0         0          1    0            10   \n",
              "1             0           0         2          0    0            10   \n",
              "2             0           0         2          0    0             8   \n",
              "3             0           0         2          0    1            11   \n",
              "4             0           0         0          0    1            12   \n",
              "\n",
              "   Height_(cm)  Weight_(kg)    BMI  Smoking_History  Alcohol_Consumption  \\\n",
              "0        150.0        32.66  14.54                1                  0.0   \n",
              "1        165.0        77.11  28.29                0                  0.0   \n",
              "2        163.0        88.45  33.47                0                  4.0   \n",
              "3        180.0        93.44  28.73                0                  0.0   \n",
              "4        191.0        88.45  24.37                1                  0.0   \n",
              "\n",
              "   Fruit_Consumption  Green_Vegetables_Consumption  FriedPotato_Consumption  \n",
              "0               30.0                          16.0                     12.0  \n",
              "1               30.0                           0.0                      4.0  \n",
              "2               12.0                           3.0                     16.0  \n",
              "3               30.0                          30.0                      8.0  \n",
              "4                8.0                           4.0                      0.0  "
            ],
            "text/html": [
              "\n",
              "  <div id=\"df-ffff1df1-278c-4895-9920-b24193e2432e\" class=\"colab-df-container\">\n",
              "    <div>\n",
              "<style scoped>\n",
              "    .dataframe tbody tr th:only-of-type {\n",
              "        vertical-align: middle;\n",
              "    }\n",
              "\n",
              "    .dataframe tbody tr th {\n",
              "        vertical-align: top;\n",
              "    }\n",
              "\n",
              "    .dataframe thead th {\n",
              "        text-align: right;\n",
              "    }\n",
              "</style>\n",
              "<table border=\"1\" class=\"dataframe\">\n",
              "  <thead>\n",
              "    <tr style=\"text-align: right;\">\n",
              "      <th></th>\n",
              "      <th>General_Health</th>\n",
              "      <th>Checkup</th>\n",
              "      <th>Exercise</th>\n",
              "      <th>Heart_Disease</th>\n",
              "      <th>Skin_Cancer</th>\n",
              "      <th>Other_Cancer</th>\n",
              "      <th>Depression</th>\n",
              "      <th>Diabetes</th>\n",
              "      <th>Arthritis</th>\n",
              "      <th>Sex</th>\n",
              "      <th>Age_Category</th>\n",
              "      <th>Height_(cm)</th>\n",
              "      <th>Weight_(kg)</th>\n",
              "      <th>BMI</th>\n",
              "      <th>Smoking_History</th>\n",
              "      <th>Alcohol_Consumption</th>\n",
              "      <th>Fruit_Consumption</th>\n",
              "      <th>Green_Vegetables_Consumption</th>\n",
              "      <th>FriedPotato_Consumption</th>\n",
              "    </tr>\n",
              "  </thead>\n",
              "  <tbody>\n",
              "    <tr>\n",
              "      <th>0</th>\n",
              "      <td>3</td>\n",
              "      <td>2</td>\n",
              "      <td>0</td>\n",
              "      <td>0</td>\n",
              "      <td>0</td>\n",
              "      <td>0</td>\n",
              "      <td>0</td>\n",
              "      <td>0</td>\n",
              "      <td>1</td>\n",
              "      <td>0</td>\n",
              "      <td>10</td>\n",
              "      <td>150.0</td>\n",
              "      <td>32.66</td>\n",
              "      <td>14.54</td>\n",
              "      <td>1</td>\n",
              "      <td>0.0</td>\n",
              "      <td>30.0</td>\n",
              "      <td>16.0</td>\n",
              "      <td>12.0</td>\n",
              "    </tr>\n",
              "    <tr>\n",
              "      <th>1</th>\n",
              "      <td>4</td>\n",
              "      <td>4</td>\n",
              "      <td>0</td>\n",
              "      <td>1</td>\n",
              "      <td>0</td>\n",
              "      <td>0</td>\n",
              "      <td>0</td>\n",
              "      <td>2</td>\n",
              "      <td>0</td>\n",
              "      <td>0</td>\n",
              "      <td>10</td>\n",
              "      <td>165.0</td>\n",
              "      <td>77.11</td>\n",
              "      <td>28.29</td>\n",
              "      <td>0</td>\n",
              "      <td>0.0</td>\n",
              "      <td>30.0</td>\n",
              "      <td>0.0</td>\n",
              "      <td>4.0</td>\n",
              "    </tr>\n",
              "    <tr>\n",
              "      <th>2</th>\n",
              "      <td>4</td>\n",
              "      <td>4</td>\n",
              "      <td>1</td>\n",
              "      <td>0</td>\n",
              "      <td>0</td>\n",
              "      <td>0</td>\n",
              "      <td>0</td>\n",
              "      <td>2</td>\n",
              "      <td>0</td>\n",
              "      <td>0</td>\n",
              "      <td>8</td>\n",
              "      <td>163.0</td>\n",
              "      <td>88.45</td>\n",
              "      <td>33.47</td>\n",
              "      <td>0</td>\n",
              "      <td>4.0</td>\n",
              "      <td>12.0</td>\n",
              "      <td>3.0</td>\n",
              "      <td>16.0</td>\n",
              "    </tr>\n",
              "    <tr>\n",
              "      <th>3</th>\n",
              "      <td>3</td>\n",
              "      <td>4</td>\n",
              "      <td>1</td>\n",
              "      <td>1</td>\n",
              "      <td>0</td>\n",
              "      <td>0</td>\n",
              "      <td>0</td>\n",
              "      <td>2</td>\n",
              "      <td>0</td>\n",
              "      <td>1</td>\n",
              "      <td>11</td>\n",
              "      <td>180.0</td>\n",
              "      <td>93.44</td>\n",
              "      <td>28.73</td>\n",
              "      <td>0</td>\n",
              "      <td>0.0</td>\n",
              "      <td>30.0</td>\n",
              "      <td>30.0</td>\n",
              "      <td>8.0</td>\n",
              "    </tr>\n",
              "    <tr>\n",
              "      <th>4</th>\n",
              "      <td>2</td>\n",
              "      <td>4</td>\n",
              "      <td>0</td>\n",
              "      <td>0</td>\n",
              "      <td>0</td>\n",
              "      <td>0</td>\n",
              "      <td>0</td>\n",
              "      <td>0</td>\n",
              "      <td>0</td>\n",
              "      <td>1</td>\n",
              "      <td>12</td>\n",
              "      <td>191.0</td>\n",
              "      <td>88.45</td>\n",
              "      <td>24.37</td>\n",
              "      <td>1</td>\n",
              "      <td>0.0</td>\n",
              "      <td>8.0</td>\n",
              "      <td>4.0</td>\n",
              "      <td>0.0</td>\n",
              "    </tr>\n",
              "  </tbody>\n",
              "</table>\n",
              "</div>\n",
              "    <div class=\"colab-df-buttons\">\n",
              "\n",
              "  <div class=\"colab-df-container\">\n",
              "    <button class=\"colab-df-convert\" onclick=\"convertToInteractive('df-ffff1df1-278c-4895-9920-b24193e2432e')\"\n",
              "            title=\"Convert this dataframe to an interactive table.\"\n",
              "            style=\"display:none;\">\n",
              "\n",
              "  <svg xmlns=\"http://www.w3.org/2000/svg\" height=\"24px\" viewBox=\"0 -960 960 960\">\n",
              "    <path d=\"M120-120v-720h720v720H120Zm60-500h600v-160H180v160Zm220 220h160v-160H400v160Zm0 220h160v-160H400v160ZM180-400h160v-160H180v160Zm440 0h160v-160H620v160ZM180-180h160v-160H180v160Zm440 0h160v-160H620v160Z\"/>\n",
              "  </svg>\n",
              "    </button>\n",
              "\n",
              "  <style>\n",
              "    .colab-df-container {\n",
              "      display:flex;\n",
              "      gap: 12px;\n",
              "    }\n",
              "\n",
              "    .colab-df-convert {\n",
              "      background-color: #E8F0FE;\n",
              "      border: none;\n",
              "      border-radius: 50%;\n",
              "      cursor: pointer;\n",
              "      display: none;\n",
              "      fill: #1967D2;\n",
              "      height: 32px;\n",
              "      padding: 0 0 0 0;\n",
              "      width: 32px;\n",
              "    }\n",
              "\n",
              "    .colab-df-convert:hover {\n",
              "      background-color: #E2EBFA;\n",
              "      box-shadow: 0px 1px 2px rgba(60, 64, 67, 0.3), 0px 1px 3px 1px rgba(60, 64, 67, 0.15);\n",
              "      fill: #174EA6;\n",
              "    }\n",
              "\n",
              "    .colab-df-buttons div {\n",
              "      margin-bottom: 4px;\n",
              "    }\n",
              "\n",
              "    [theme=dark] .colab-df-convert {\n",
              "      background-color: #3B4455;\n",
              "      fill: #D2E3FC;\n",
              "    }\n",
              "\n",
              "    [theme=dark] .colab-df-convert:hover {\n",
              "      background-color: #434B5C;\n",
              "      box-shadow: 0px 1px 3px 1px rgba(0, 0, 0, 0.15);\n",
              "      filter: drop-shadow(0px 1px 2px rgba(0, 0, 0, 0.3));\n",
              "      fill: #FFFFFF;\n",
              "    }\n",
              "  </style>\n",
              "\n",
              "    <script>\n",
              "      const buttonEl =\n",
              "        document.querySelector('#df-ffff1df1-278c-4895-9920-b24193e2432e button.colab-df-convert');\n",
              "      buttonEl.style.display =\n",
              "        google.colab.kernel.accessAllowed ? 'block' : 'none';\n",
              "\n",
              "      async function convertToInteractive(key) {\n",
              "        const element = document.querySelector('#df-ffff1df1-278c-4895-9920-b24193e2432e');\n",
              "        const dataTable =\n",
              "          await google.colab.kernel.invokeFunction('convertToInteractive',\n",
              "                                                    [key], {});\n",
              "        if (!dataTable) return;\n",
              "\n",
              "        const docLinkHtml = 'Like what you see? Visit the ' +\n",
              "          '<a target=\"_blank\" href=https://colab.research.google.com/notebooks/data_table.ipynb>data table notebook</a>'\n",
              "          + ' to learn more about interactive tables.';\n",
              "        element.innerHTML = '';\n",
              "        dataTable['output_type'] = 'display_data';\n",
              "        await google.colab.output.renderOutput(dataTable, element);\n",
              "        const docLink = document.createElement('div');\n",
              "        docLink.innerHTML = docLinkHtml;\n",
              "        element.appendChild(docLink);\n",
              "      }\n",
              "    </script>\n",
              "  </div>\n",
              "\n",
              "\n",
              "<div id=\"df-207a075e-9c75-40b1-8c7a-52c1d71c5b3d\">\n",
              "  <button class=\"colab-df-quickchart\" onclick=\"quickchart('df-207a075e-9c75-40b1-8c7a-52c1d71c5b3d')\"\n",
              "            title=\"Suggest charts.\"\n",
              "            style=\"display:none;\">\n",
              "\n",
              "<svg xmlns=\"http://www.w3.org/2000/svg\" height=\"24px\"viewBox=\"0 0 24 24\"\n",
              "     width=\"24px\">\n",
              "    <g>\n",
              "        <path d=\"M19 3H5c-1.1 0-2 .9-2 2v14c0 1.1.9 2 2 2h14c1.1 0 2-.9 2-2V5c0-1.1-.9-2-2-2zM9 17H7v-7h2v7zm4 0h-2V7h2v10zm4 0h-2v-4h2v4z\"/>\n",
              "    </g>\n",
              "</svg>\n",
              "  </button>\n",
              "\n",
              "<style>\n",
              "  .colab-df-quickchart {\n",
              "      --bg-color: #E8F0FE;\n",
              "      --fill-color: #1967D2;\n",
              "      --hover-bg-color: #E2EBFA;\n",
              "      --hover-fill-color: #174EA6;\n",
              "      --disabled-fill-color: #AAA;\n",
              "      --disabled-bg-color: #DDD;\n",
              "  }\n",
              "\n",
              "  [theme=dark] .colab-df-quickchart {\n",
              "      --bg-color: #3B4455;\n",
              "      --fill-color: #D2E3FC;\n",
              "      --hover-bg-color: #434B5C;\n",
              "      --hover-fill-color: #FFFFFF;\n",
              "      --disabled-bg-color: #3B4455;\n",
              "      --disabled-fill-color: #666;\n",
              "  }\n",
              "\n",
              "  .colab-df-quickchart {\n",
              "    background-color: var(--bg-color);\n",
              "    border: none;\n",
              "    border-radius: 50%;\n",
              "    cursor: pointer;\n",
              "    display: none;\n",
              "    fill: var(--fill-color);\n",
              "    height: 32px;\n",
              "    padding: 0;\n",
              "    width: 32px;\n",
              "  }\n",
              "\n",
              "  .colab-df-quickchart:hover {\n",
              "    background-color: var(--hover-bg-color);\n",
              "    box-shadow: 0 1px 2px rgba(60, 64, 67, 0.3), 0 1px 3px 1px rgba(60, 64, 67, 0.15);\n",
              "    fill: var(--button-hover-fill-color);\n",
              "  }\n",
              "\n",
              "  .colab-df-quickchart-complete:disabled,\n",
              "  .colab-df-quickchart-complete:disabled:hover {\n",
              "    background-color: var(--disabled-bg-color);\n",
              "    fill: var(--disabled-fill-color);\n",
              "    box-shadow: none;\n",
              "  }\n",
              "\n",
              "  .colab-df-spinner {\n",
              "    border: 2px solid var(--fill-color);\n",
              "    border-color: transparent;\n",
              "    border-bottom-color: var(--fill-color);\n",
              "    animation:\n",
              "      spin 1s steps(1) infinite;\n",
              "  }\n",
              "\n",
              "  @keyframes spin {\n",
              "    0% {\n",
              "      border-color: transparent;\n",
              "      border-bottom-color: var(--fill-color);\n",
              "      border-left-color: var(--fill-color);\n",
              "    }\n",
              "    20% {\n",
              "      border-color: transparent;\n",
              "      border-left-color: var(--fill-color);\n",
              "      border-top-color: var(--fill-color);\n",
              "    }\n",
              "    30% {\n",
              "      border-color: transparent;\n",
              "      border-left-color: var(--fill-color);\n",
              "      border-top-color: var(--fill-color);\n",
              "      border-right-color: var(--fill-color);\n",
              "    }\n",
              "    40% {\n",
              "      border-color: transparent;\n",
              "      border-right-color: var(--fill-color);\n",
              "      border-top-color: var(--fill-color);\n",
              "    }\n",
              "    60% {\n",
              "      border-color: transparent;\n",
              "      border-right-color: var(--fill-color);\n",
              "    }\n",
              "    80% {\n",
              "      border-color: transparent;\n",
              "      border-right-color: var(--fill-color);\n",
              "      border-bottom-color: var(--fill-color);\n",
              "    }\n",
              "    90% {\n",
              "      border-color: transparent;\n",
              "      border-bottom-color: var(--fill-color);\n",
              "    }\n",
              "  }\n",
              "</style>\n",
              "\n",
              "  <script>\n",
              "    async function quickchart(key) {\n",
              "      const quickchartButtonEl =\n",
              "        document.querySelector('#' + key + ' button');\n",
              "      quickchartButtonEl.disabled = true;  // To prevent multiple clicks.\n",
              "      quickchartButtonEl.classList.add('colab-df-spinner');\n",
              "      try {\n",
              "        const charts = await google.colab.kernel.invokeFunction(\n",
              "            'suggestCharts', [key], {});\n",
              "      } catch (error) {\n",
              "        console.error('Error during call to suggestCharts:', error);\n",
              "      }\n",
              "      quickchartButtonEl.classList.remove('colab-df-spinner');\n",
              "      quickchartButtonEl.classList.add('colab-df-quickchart-complete');\n",
              "    }\n",
              "    (() => {\n",
              "      let quickchartButtonEl =\n",
              "        document.querySelector('#df-207a075e-9c75-40b1-8c7a-52c1d71c5b3d button');\n",
              "      quickchartButtonEl.style.display =\n",
              "        google.colab.kernel.accessAllowed ? 'block' : 'none';\n",
              "    })();\n",
              "  </script>\n",
              "</div>\n",
              "    </div>\n",
              "  </div>\n"
            ]
          },
          "metadata": {},
          "execution_count": 12
        }
      ]
    },
    {
      "cell_type": "markdown",
      "source": [
        "Here we can see now that every column within the dataframe contains numerical data."
      ],
      "metadata": {
        "id": "GaM2iA68Nhqo"
      }
    },
    {
      "cell_type": "code",
      "source": [
        "df.info()"
      ],
      "metadata": {
        "colab": {
          "base_uri": "https://localhost:8080/"
        },
        "id": "_aRV--7zNOUE",
        "outputId": "266f4727-2831-45b7-8b36-d1ce02b76e9c"
      },
      "execution_count": 13,
      "outputs": [
        {
          "output_type": "stream",
          "name": "stdout",
          "text": [
            "<class 'pandas.core.frame.DataFrame'>\n",
            "RangeIndex: 308854 entries, 0 to 308853\n",
            "Data columns (total 19 columns):\n",
            " #   Column                        Non-Null Count   Dtype  \n",
            "---  ------                        --------------   -----  \n",
            " 0   General_Health                308854 non-null  int64  \n",
            " 1   Checkup                       308854 non-null  int64  \n",
            " 2   Exercise                      308854 non-null  int64  \n",
            " 3   Heart_Disease                 308854 non-null  int64  \n",
            " 4   Skin_Cancer                   308854 non-null  int64  \n",
            " 5   Other_Cancer                  308854 non-null  int64  \n",
            " 6   Depression                    308854 non-null  int64  \n",
            " 7   Diabetes                      308854 non-null  int64  \n",
            " 8   Arthritis                     308854 non-null  int64  \n",
            " 9   Sex                           308854 non-null  int64  \n",
            " 10  Age_Category                  308854 non-null  int64  \n",
            " 11  Height_(cm)                   308854 non-null  float64\n",
            " 12  Weight_(kg)                   308854 non-null  float64\n",
            " 13  BMI                           308854 non-null  float64\n",
            " 14  Smoking_History               308854 non-null  int64  \n",
            " 15  Alcohol_Consumption           308854 non-null  float64\n",
            " 16  Fruit_Consumption             308854 non-null  float64\n",
            " 17  Green_Vegetables_Consumption  308854 non-null  float64\n",
            " 18  FriedPotato_Consumption       308854 non-null  float64\n",
            "dtypes: float64(7), int64(12)\n",
            "memory usage: 44.8 MB\n"
          ]
        }
      ]
    },
    {
      "cell_type": "markdown",
      "source": [
        "# Finding the highly correlated columns"
      ],
      "metadata": {
        "id": "Vwt4BIQKNo_8"
      }
    },
    {
      "cell_type": "markdown",
      "source": [
        "Here we set the target column as 'Heart_Disease' and view the correlation between each column and the target column."
      ],
      "metadata": {
        "id": "7pYHlKryN2qI"
      }
    },
    {
      "cell_type": "code",
      "source": [
        "correlation_matrix = df.corr()['Heart_Disease']\n",
        "correlation_matrix"
      ],
      "metadata": {
        "colab": {
          "base_uri": "https://localhost:8080/"
        },
        "id": "H_qoXngNNzkU",
        "outputId": "a9b211c6-313b-40ec-fe5d-304b6b7e7087"
      },
      "execution_count": 14,
      "outputs": [
        {
          "output_type": "execute_result",
          "data": {
            "text/plain": [
              "General_Health                 -0.020645\n",
              "Checkup                         0.083480\n",
              "Exercise                       -0.096347\n",
              "Heart_Disease                   1.000000\n",
              "Skin_Cancer                     0.090848\n",
              "Other_Cancer                    0.092387\n",
              "Depression                      0.032526\n",
              "Diabetes                        0.166241\n",
              "Arthritis                       0.153913\n",
              "Sex                             0.072595\n",
              "Age_Category                    0.229011\n",
              "Height_(cm)                     0.015780\n",
              "Weight_(kg)                     0.045875\n",
              "BMI                             0.042666\n",
              "Smoking_History                 0.107797\n",
              "Alcohol_Consumption            -0.036569\n",
              "Fruit_Consumption              -0.020055\n",
              "Green_Vegetables_Consumption   -0.024043\n",
              "FriedPotato_Consumption        -0.009227\n",
              "Name: Heart_Disease, dtype: float64"
            ]
          },
          "metadata": {},
          "execution_count": 14
        }
      ]
    },
    {
      "cell_type": "markdown",
      "source": [
        "# Splitting the training and testing data\n",
        "\n",
        "Here we split the dataframe into training and testing data. We drop the target variable (Heart_Disease) from the feature variables (X) and make it the target variable (y)."
      ],
      "metadata": {
        "id": "KmAzlggOO0Hu"
      }
    },
    {
      "cell_type": "code",
      "source": [
        "X = df.drop('Heart_Disease', axis=1)\n",
        "y = df['Heart_Disease']"
      ],
      "metadata": {
        "id": "_4Mqq3ZRPBG6"
      },
      "execution_count": 15,
      "outputs": []
    },
    {
      "cell_type": "markdown",
      "source": [
        "Here the dataset is split into training and testing sets (75% train, 25% test).\n"
      ],
      "metadata": {
        "id": "nw-d3g98P3dI"
      }
    },
    {
      "cell_type": "code",
      "source": [
        "x_train, x_test, y_train, y_test = train_test_split(X, y, test_size=0.25, random_state=42)"
      ],
      "metadata": {
        "id": "JUsnJsabPWiW"
      },
      "execution_count": 16,
      "outputs": []
    },
    {
      "cell_type": "markdown",
      "source": [
        "Here we view the lengths of each of the variables from the split by printing the lengths of the training and testing sets."
      ],
      "metadata": {
        "id": "dPTbYdrVQr7W"
      }
    },
    {
      "cell_type": "code",
      "source": [
        "print(\"Length of training set (x_train):\", len(x_train))\n",
        "print(\"Length of testing set (x_test):\", len(x_test))\n",
        "print(\"Length of training labels (y_train):\", len(y_train))\n",
        "print(\"Length of testing labels (y_test):\", len(y_test))"
      ],
      "metadata": {
        "colab": {
          "base_uri": "https://localhost:8080/"
        },
        "id": "_YkNfggTQqJi",
        "outputId": "a922a9e4-aa5f-409d-fb2d-ace8040a66bc"
      },
      "execution_count": 17,
      "outputs": [
        {
          "output_type": "stream",
          "name": "stdout",
          "text": [
            "Length of training set (x_train): 231640\n",
            "Length of testing set (x_test): 77214\n",
            "Length of training labels (y_train): 231640\n",
            "Length of testing labels (y_test): 77214\n"
          ]
        }
      ]
    },
    {
      "cell_type": "markdown",
      "source": [
        "# Creating the Multilayer Perceptron (MLP)\n",
        "Here we create a multilayer perceptron to train our model."
      ],
      "metadata": {
        "id": "4rbsMFUxRq54"
      }
    },
    {
      "cell_type": "markdown",
      "source": [
        "## Defining the early stopping callback"
      ],
      "metadata": {
        "id": "qgHfl4_FSfgp"
      }
    },
    {
      "cell_type": "markdown",
      "source": [
        "\n",
        "\n",
        "*   min_delta=0.001:\n",
        "\n",
        "  * **Justification**: Early stopping will only occur if the improvement in the monitored metric (in this case, validation loss) is greater than or equal to 0.001.\n",
        "  * **Reason**: Setting a small min_delta ensures that the model continues training until there is a relatively small but meaningful improvement in performance, preventing premature stopping due to minor fluctuations.\n",
        "* patience=5:\n",
        "\n",
        "  * **Justification**: Early stopping will wait for 5 epochs without improvement in the monitored metric before stopping.\n",
        "  * **Reason**: Allowing some patience ensures that the model doesn't stop too early due to temporary fluctuations in the validation loss. It helps capture more significant trends in the model's performance.\n",
        "* restore_best_weights=True:\n",
        "\n",
        "  * **Justification**: If early stopping occurs, it will restore the model's weights to the configuration that had the lowest monitored metric (validation loss) during training.\n",
        "  * **Reason**: This is crucial because it prevents the model from potentially settling into a suboptimal state after training for many epochs. Restoring the best weights ensures the model retains the best performance achieved during training.\n",
        "\n"
      ],
      "metadata": {
        "id": "guQItNh9TAQ5"
      }
    },
    {
      "cell_type": "code",
      "source": [
        "early_stopping = EarlyStopping(\n",
        "    min_delta=0.001,  # Minimum amount of change to count as an improvement\n",
        "    patience=5,       # How many epochs to wait before stopping\n",
        "    restore_best_weights=True  # Restore the best weights when stopping\n",
        ")"
      ],
      "metadata": {
        "id": "btCv0m8tRlaH"
      },
      "execution_count": 18,
      "outputs": []
    },
    {
      "cell_type": "code",
      "source": [],
      "metadata": {
        "id": "syZ79jdEUhPI"
      },
      "execution_count": 18,
      "outputs": []
    },
    {
      "cell_type": "markdown",
      "source": [
        "## Initialising the MLP"
      ],
      "metadata": {
        "id": "OlC3ZSpJUSCy"
      }
    },
    {
      "cell_type": "code",
      "source": [
        "model = Sequential()"
      ],
      "metadata": {
        "id": "cR63sP5WRiMy"
      },
      "execution_count": 19,
      "outputs": []
    },
    {
      "cell_type": "markdown",
      "source": [
        "## Defining the layers of the MLP"
      ],
      "metadata": {
        "id": "x0oeGlVWUcgx"
      }
    },
    {
      "cell_type": "code",
      "source": [
        "model.add(Dense(units=128, kernel_initializer='uniform', activation='relu', input_dim=18))\n",
        "model.add(Dense(units=64, kernel_initializer='uniform', activation='relu'))\n",
        "model.add(Dense(units=32, kernel_initializer='uniform', activation='relu'))\n",
        "model.add(Dropout(0.3))\n",
        "model.add(Dense(units=16, kernel_initializer='uniform', activation='relu'))\n",
        "model.add(Dropout(0.2))\n",
        "model.add(Dense(units=8, kernel_initializer='uniform', activation='relu'))\n",
        "model.add(Dense(units=4, kernel_initializer='uniform', activation='relu'))\n",
        "model.add(Dense(units=1, kernel_initializer='uniform', activation='sigmoid'))"
      ],
      "metadata": {
        "id": "yiKoQSEzUiG9"
      },
      "execution_count": 20,
      "outputs": []
    },
    {
      "cell_type": "markdown",
      "source": [
        "## Compiling the MLP"
      ],
      "metadata": {
        "id": "bfNLg8G6Upc9"
      }
    },
    {
      "cell_type": "code",
      "source": [
        "model.compile(optimizer='adam', loss='binary_crossentropy', metrics=['accuracy'])"
      ],
      "metadata": {
        "id": "X1sbjBtPUr-9"
      },
      "execution_count": 21,
      "outputs": []
    },
    {
      "cell_type": "markdown",
      "source": [
        "## Training the MLP"
      ],
      "metadata": {
        "id": "0n_mnREVUzgc"
      }
    },
    {
      "cell_type": "code",
      "source": [
        "history = model.fit(x_train, y_train, batch_size=25, epochs=80, callbacks=[early_stopping], validation_split=0.25)"
      ],
      "metadata": {
        "colab": {
          "base_uri": "https://localhost:8080/"
        },
        "id": "CIxmvuGOU4hP",
        "outputId": "3b52ed0f-e099-4136-daa4-84820a18a373"
      },
      "execution_count": 22,
      "outputs": [
        {
          "output_type": "stream",
          "name": "stdout",
          "text": [
            "Epoch 1/80\n",
            "6950/6950 [==============================] - 25s 3ms/step - loss: 0.2497 - accuracy: 0.9193 - val_loss: 0.2348 - val_accuracy: 0.9193\n",
            "Epoch 2/80\n",
            "6950/6950 [==============================] - 29s 4ms/step - loss: 0.2382 - accuracy: 0.9193 - val_loss: 0.2361 - val_accuracy: 0.9193\n",
            "Epoch 3/80\n",
            "6950/6950 [==============================] - 23s 3ms/step - loss: 0.2367 - accuracy: 0.9193 - val_loss: 0.2420 - val_accuracy: 0.9193\n",
            "Epoch 4/80\n",
            "6950/6950 [==============================] - 24s 4ms/step - loss: 0.2359 - accuracy: 0.9193 - val_loss: 0.2350 - val_accuracy: 0.9193\n",
            "Epoch 5/80\n",
            "6950/6950 [==============================] - 21s 3ms/step - loss: 0.2347 - accuracy: 0.9193 - val_loss: 0.2342 - val_accuracy: 0.9193\n",
            "Epoch 6/80\n",
            "6950/6950 [==============================] - 25s 4ms/step - loss: 0.2346 - accuracy: 0.9193 - val_loss: 0.2383 - val_accuracy: 0.9193\n"
          ]
        }
      ]
    },
    {
      "cell_type": "markdown",
      "source": [
        "# Validating the Model"
      ],
      "metadata": {
        "id": "fW8SDWWbV3hB"
      }
    },
    {
      "cell_type": "code",
      "source": [
        "# Predict on training and test sets\n",
        "train_preds = model.predict(x_train)\n",
        "train_pred = (train_preds > 0.5).astype(int)\n",
        "test_preds = model.predict(x_test)\n",
        "test_pred = (test_preds > 0.5).astype(int)\n",
        "\n",
        "# Calculate the accuracy scores\n",
        "train_accuracy = accuracy_score(y_train, train_pred)\n",
        "test_accuracy = accuracy_score(y_test, test_pred)\n",
        "\n",
        "print(\"Training Accuracy:\", train_accuracy)\n",
        "print(\"Test Accuracy:\", test_accuracy)\n"
      ],
      "metadata": {
        "colab": {
          "base_uri": "https://localhost:8080/"
        },
        "id": "vtSDLqALYw7I",
        "outputId": "1403893e-c850-4f94-c19a-ea653f39f9ca"
      },
      "execution_count": 27,
      "outputs": [
        {
          "output_type": "stream",
          "name": "stdout",
          "text": [
            "7239/7239 [==============================] - 11s 1ms/step\n",
            "2413/2413 [==============================] - 3s 1ms/step\n",
            "Training Accuracy: 0.9193274045933345\n",
            "Test Accuracy: 0.9186157950630714\n"
          ]
        }
      ]
    },
    {
      "cell_type": "markdown",
      "source": [
        "## Testing an individual's CVD risk using the model"
      ],
      "metadata": {
        "id": "T93Z_yMNGbID"
      }
    },
    {
      "cell_type": "code",
      "source": [
        "def predict_cvd(config, model):\n",
        "\n",
        "    if type(config) == dict:\n",
        "        df = pd.DataFrame(config)\n",
        "    else:\n",
        "        df = config\n",
        "\n",
        "    y_pred = model.predict(df)\n",
        "\n",
        "    return y_pred"
      ],
      "metadata": {
        "id": "xlrxZYiDGhRd"
      },
      "execution_count": 31,
      "outputs": []
    },
    {
      "cell_type": "code",
      "source": [
        "config = {\n",
        "    'General_Health': [4],  # Encoding for \"Excellent\" or very healthy\n",
        "    'Checkup': [0],  # Encoding for \"Within the past 2 years\" or regular checkups\n",
        "    'Exercise': [1],  # Encoding for \"Yes\" or regular exercise\n",
        "    'Skin_Cancer': [0],  # Encoding for \"No\" (no skin cancer)\n",
        "    'Other_Cancer': [0],  # Encoding for \"No\" (no other cancer)\n",
        "    'Depression': [0],  # Encoding for \"No\" (no depression)\n",
        "    'Diabetes': [0],  # Encoding for \"No\" (no diabetes)\n",
        "    'Arthritis': [0],  # Encoding for \"No\" (no arthritis)\n",
        "    'Sex': [1],  # Encoding for \"Male\"\n",
        "    'Age_Category': [7],  # Encoding for \"18-24\" or a relatively young age\n",
        "    'Height_(cm)': [175.0],  # Average height in centimeters\n",
        "    'Weight_(kg)': [70.0],  # Healthy weight in kilograms\n",
        "    'BMI': [22.86],  # Normal BMI value\n",
        "    'Smoking_History': [0],  # Encoding for \"No\" (non-smoker)\n",
        "    'Alcohol_Consumption': [2.5],  # Moderate alcohol consumption in grams per day\n",
        "    'Fruit_Consumption': [3.0],  # Moderate fruit consumption in servings per day\n",
        "    'Green_Vegetables_Consumption': [2.0],  # Moderate green vegetables consumption in servings per day\n",
        "    'FriedPotato_Consumption': [0.5]  # Low fried potato consumption in servings per day\n",
        "}\n",
        "\n",
        "predict_cvd(config, model)"
      ],
      "metadata": {
        "colab": {
          "base_uri": "https://localhost:8080/"
        },
        "id": "rxM_oruXIDDR",
        "outputId": "e55be833-9154-407e-95da-44b30f5ca1af"
      },
      "execution_count": 57,
      "outputs": [
        {
          "output_type": "stream",
          "name": "stdout",
          "text": [
            "1/1 [==============================] - 0s 147ms/step\n"
          ]
        },
        {
          "output_type": "execute_result",
          "data": {
            "text/plain": [
              "array([[0.01588038]], dtype=float32)"
            ]
          },
          "metadata": {},
          "execution_count": 57
        }
      ]
    },
    {
      "cell_type": "markdown",
      "source": [
        "## Creating model file\n",
        "\n",
        "Here, the model file is created in order to be used by the API later on."
      ],
      "metadata": {
        "id": "oTJyQig4FfZD"
      }
    },
    {
      "cell_type": "code",
      "source": [
        "# Save to file in the current working directory\n",
        "pkl_filename = \"model.pkl\"\n",
        "with open(pkl_filename, 'wb') as file:\n",
        "    pickle.dump(model, file)\n",
        "\n",
        "# Load from file\n",
        "with open(pkl_filename, 'rb') as file:\n",
        "    pickle_model = pickle.load(file)\n",
        "\n",
        "##loading the model from the saved file\n",
        "pkl_filename = \"model.pkl\"\n",
        "with open(pkl_filename, 'rb') as f_in:\n",
        "    model = pickle.load(f_in)"
      ],
      "metadata": {
        "id": "kxgMTf-eFvD0"
      },
      "execution_count": 55,
      "outputs": []
    }
  ]
}