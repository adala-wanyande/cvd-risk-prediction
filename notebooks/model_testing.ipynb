{
  "cells": [
    {
      "cell_type": "markdown",
      "metadata": {
        "id": "z8stuGOuYCV2"
      },
      "source": [
        "# Importing dependencies"
      ]
    },
    {
      "cell_type": "code",
      "execution_count": 1,
      "metadata": {
        "colab": {
          "base_uri": "https://localhost:8080/"
        },
        "id": "J4U0Bb4BaFbj",
        "outputId": "e8c9642b-6baa-410b-adf1-1bfc5dfd43ae"
      },
      "outputs": [],
      "source": [
        "import numpy as np\n",
        "import pandas as pd\n",
        "import matplotlib.pyplot as plt\n",
        "import seaborn as sns\n",
        "from sklearn.pipeline import Pipeline, make_pipeline\n",
        "from sklearn.preprocessing import FunctionTransformer\n",
        "from sklearn.compose import ColumnTransformer, make_column_selector\n",
        "from sklearn.preprocessing import OneHotEncoder, StandardScaler, OrdinalEncoder\n",
        "from sklearn.impute import SimpleImputer\n",
        "from sklearn.metrics import recall_score, accuracy_score, classification_report\n",
        "from sklearn.model_selection import cross_val_score\n",
        "from imblearn.pipeline import Pipeline, make_pipeline\n",
        "from imblearn.over_sampling import SMOTE\n",
        "from imblearn.under_sampling import RandomUnderSampler\n",
        "from imblearn.combine import SMOTETomek\n",
        "from imblearn.under_sampling import TomekLinks\n",
        "import pickle\n",
        "from IPython.display import Markdown, display\n",
        "from sklearn import preprocessing\n",
        "from sklearn.feature_selection import RFE\n",
        "from sklearn.model_selection import train_test_split\n",
        "from sklearn.ensemble import RandomForestClassifier\n",
        "from sklearn.neural_network import MLPClassifier\n",
        "from sklearn.metrics import (\n",
        "    accuracy_score,\n",
        "    precision_score,\n",
        "    recall_score,\n",
        "    roc_auc_score,\n",
        "    roc_curve,\n",
        "    auc,\n",
        "    confusion_matrix,\n",
        ")\n"
      ]
    },
    {
      "cell_type": "markdown",
      "metadata": {
        "id": "OOVnb50_YhIm"
      },
      "source": [
        "# Creating functions"
      ]
    },
    {
      "cell_type": "code",
      "execution_count": 5,
      "metadata": {
        "id": "3vuqvp_TYgkP"
      },
      "outputs": [],
      "source": [
        "## printing the shape and head\n",
        "def head(df,shape_only=False):\n",
        "    print(df.shape)\n",
        "\n",
        "    if shape_only:\n",
        "        return\n",
        "    else:\n",
        "        return df.head()\n"
      ]
    },
    {
      "cell_type": "markdown",
      "metadata": {
        "id": "ElDlfaouYnaW"
      },
      "source": [
        "# Reading dataset "
      ]
    },
    {
      "cell_type": "code",
      "execution_count": 7,
      "metadata": {
        "colab": {
          "base_uri": "https://localhost:8080/",
          "height": 417
        },
        "id": "1C8gUwBnYtuU",
        "outputId": "e95c2962-dfa3-45c9-80c8-cee527e9f97b"
      },
      "outputs": [
        {
          "name": "stdout",
          "output_type": "stream",
          "text": [
            "(308854, 19)\n"
          ]
        },
        {
          "data": {
            "text/html": [
              "<div>\n",
              "<style scoped>\n",
              "    .dataframe tbody tr th:only-of-type {\n",
              "        vertical-align: middle;\n",
              "    }\n",
              "\n",
              "    .dataframe tbody tr th {\n",
              "        vertical-align: top;\n",
              "    }\n",
              "\n",
              "    .dataframe thead th {\n",
              "        text-align: right;\n",
              "    }\n",
              "</style>\n",
              "<table border=\"1\" class=\"dataframe\">\n",
              "  <thead>\n",
              "    <tr style=\"text-align: right;\">\n",
              "      <th></th>\n",
              "      <th>General_Health</th>\n",
              "      <th>Checkup</th>\n",
              "      <th>Exercise</th>\n",
              "      <th>Heart_Disease</th>\n",
              "      <th>Skin_Cancer</th>\n",
              "      <th>Other_Cancer</th>\n",
              "      <th>Depression</th>\n",
              "      <th>Diabetes</th>\n",
              "      <th>Arthritis</th>\n",
              "      <th>Sex</th>\n",
              "      <th>Age_Category</th>\n",
              "      <th>Height_(cm)</th>\n",
              "      <th>Weight_(kg)</th>\n",
              "      <th>BMI</th>\n",
              "      <th>Smoking_History</th>\n",
              "      <th>Alcohol_Consumption</th>\n",
              "      <th>Fruit_Consumption</th>\n",
              "      <th>Green_Vegetables_Consumption</th>\n",
              "      <th>FriedPotato_Consumption</th>\n",
              "    </tr>\n",
              "  </thead>\n",
              "  <tbody>\n",
              "    <tr>\n",
              "      <th>0</th>\n",
              "      <td>Poor</td>\n",
              "      <td>Within the past 2 years</td>\n",
              "      <td>No</td>\n",
              "      <td>No</td>\n",
              "      <td>No</td>\n",
              "      <td>No</td>\n",
              "      <td>No</td>\n",
              "      <td>No</td>\n",
              "      <td>Yes</td>\n",
              "      <td>Female</td>\n",
              "      <td>70-74</td>\n",
              "      <td>150.0</td>\n",
              "      <td>32.66</td>\n",
              "      <td>14.54</td>\n",
              "      <td>Yes</td>\n",
              "      <td>0.0</td>\n",
              "      <td>30.0</td>\n",
              "      <td>16.0</td>\n",
              "      <td>12.0</td>\n",
              "    </tr>\n",
              "    <tr>\n",
              "      <th>1</th>\n",
              "      <td>Very Good</td>\n",
              "      <td>Within the past year</td>\n",
              "      <td>No</td>\n",
              "      <td>Yes</td>\n",
              "      <td>No</td>\n",
              "      <td>No</td>\n",
              "      <td>No</td>\n",
              "      <td>Yes</td>\n",
              "      <td>No</td>\n",
              "      <td>Female</td>\n",
              "      <td>70-74</td>\n",
              "      <td>165.0</td>\n",
              "      <td>77.11</td>\n",
              "      <td>28.29</td>\n",
              "      <td>No</td>\n",
              "      <td>0.0</td>\n",
              "      <td>30.0</td>\n",
              "      <td>0.0</td>\n",
              "      <td>4.0</td>\n",
              "    </tr>\n",
              "    <tr>\n",
              "      <th>2</th>\n",
              "      <td>Very Good</td>\n",
              "      <td>Within the past year</td>\n",
              "      <td>Yes</td>\n",
              "      <td>No</td>\n",
              "      <td>No</td>\n",
              "      <td>No</td>\n",
              "      <td>No</td>\n",
              "      <td>Yes</td>\n",
              "      <td>No</td>\n",
              "      <td>Female</td>\n",
              "      <td>60-64</td>\n",
              "      <td>163.0</td>\n",
              "      <td>88.45</td>\n",
              "      <td>33.47</td>\n",
              "      <td>No</td>\n",
              "      <td>4.0</td>\n",
              "      <td>12.0</td>\n",
              "      <td>3.0</td>\n",
              "      <td>16.0</td>\n",
              "    </tr>\n",
              "    <tr>\n",
              "      <th>3</th>\n",
              "      <td>Poor</td>\n",
              "      <td>Within the past year</td>\n",
              "      <td>Yes</td>\n",
              "      <td>Yes</td>\n",
              "      <td>No</td>\n",
              "      <td>No</td>\n",
              "      <td>No</td>\n",
              "      <td>Yes</td>\n",
              "      <td>No</td>\n",
              "      <td>Male</td>\n",
              "      <td>75-79</td>\n",
              "      <td>180.0</td>\n",
              "      <td>93.44</td>\n",
              "      <td>28.73</td>\n",
              "      <td>No</td>\n",
              "      <td>0.0</td>\n",
              "      <td>30.0</td>\n",
              "      <td>30.0</td>\n",
              "      <td>8.0</td>\n",
              "    </tr>\n",
              "    <tr>\n",
              "      <th>4</th>\n",
              "      <td>Good</td>\n",
              "      <td>Within the past year</td>\n",
              "      <td>No</td>\n",
              "      <td>No</td>\n",
              "      <td>No</td>\n",
              "      <td>No</td>\n",
              "      <td>No</td>\n",
              "      <td>No</td>\n",
              "      <td>No</td>\n",
              "      <td>Male</td>\n",
              "      <td>80+</td>\n",
              "      <td>191.0</td>\n",
              "      <td>88.45</td>\n",
              "      <td>24.37</td>\n",
              "      <td>Yes</td>\n",
              "      <td>0.0</td>\n",
              "      <td>8.0</td>\n",
              "      <td>4.0</td>\n",
              "      <td>0.0</td>\n",
              "    </tr>\n",
              "  </tbody>\n",
              "</table>\n",
              "</div>"
            ],
            "text/plain": [
              "  General_Health                  Checkup Exercise Heart_Disease Skin_Cancer  \\\n",
              "0           Poor  Within the past 2 years       No            No          No   \n",
              "1      Very Good     Within the past year       No           Yes          No   \n",
              "2      Very Good     Within the past year      Yes            No          No   \n",
              "3           Poor     Within the past year      Yes           Yes          No   \n",
              "4           Good     Within the past year       No            No          No   \n",
              "\n",
              "  Other_Cancer Depression Diabetes Arthritis     Sex Age_Category  \\\n",
              "0           No         No       No       Yes  Female        70-74   \n",
              "1           No         No      Yes        No  Female        70-74   \n",
              "2           No         No      Yes        No  Female        60-64   \n",
              "3           No         No      Yes        No    Male        75-79   \n",
              "4           No         No       No        No    Male          80+   \n",
              "\n",
              "   Height_(cm)  Weight_(kg)    BMI Smoking_History  Alcohol_Consumption  \\\n",
              "0        150.0        32.66  14.54             Yes                  0.0   \n",
              "1        165.0        77.11  28.29              No                  0.0   \n",
              "2        163.0        88.45  33.47              No                  4.0   \n",
              "3        180.0        93.44  28.73              No                  0.0   \n",
              "4        191.0        88.45  24.37             Yes                  0.0   \n",
              "\n",
              "   Fruit_Consumption  Green_Vegetables_Consumption  FriedPotato_Consumption  \n",
              "0               30.0                          16.0                     12.0  \n",
              "1               30.0                           0.0                      4.0  \n",
              "2               12.0                           3.0                     16.0  \n",
              "3               30.0                          30.0                      8.0  \n",
              "4                8.0                           4.0                      0.0  "
            ]
          },
          "execution_count": 7,
          "metadata": {},
          "output_type": "execute_result"
        }
      ],
      "source": [
        "df = pd.read_csv('../data/raw/dataset.csv')\n",
        "\n",
        "## Viewing the dataframe and shape\n",
        "head(df,shape_only=False)"
      ]
    },
    {
      "cell_type": "code",
      "execution_count": 8,
      "metadata": {
        "id": "YRJtmJ9lb295"
      },
      "outputs": [],
      "source": [
        "## Setting the target variable\n",
        "target = 'Heart_Disease'"
      ]
    },
    {
      "cell_type": "code",
      "execution_count": 9,
      "metadata": {
        "colab": {
          "base_uri": "https://localhost:8080/"
        },
        "id": "6-uMV3w8b4_s",
        "outputId": "ca9c174f-30e7-422e-d692-385a08bfb2b2"
      },
      "outputs": [
        {
          "name": "stdout",
          "output_type": "stream",
          "text": [
            "There are 12 Categorical variables\n",
            "There are 7 Numerical variables\n"
          ]
        }
      ],
      "source": [
        "## Creating numerical and categorical columns\n",
        "numerical = df.select_dtypes(include=['float64']).columns.sort_values()\n",
        "categorical = df.select_dtypes(include=['object']).columns.sort_values()\n",
        "\n",
        "## Printing the length of numerical and categorical. The total length should have\n",
        "## the same length as our dataframe\n",
        "print(f'There are {len(categorical)} Categorical variables')\n",
        "print(f'There are {len(numerical)} Numerical variables')"
      ]
    },
    {
      "cell_type": "code",
      "execution_count": 10,
      "metadata": {
        "colab": {
          "base_uri": "https://localhost:8080/"
        },
        "id": "rGDQIoGab7TE",
        "outputId": "003904ac-b8fc-49ef-9e3a-d0a711c54350"
      },
      "outputs": [
        {
          "name": "stdout",
          "output_type": "stream",
          "text": [
            "\n",
            "                                    mean        std     25%     50%     75%\n",
            "Height_(cm)                   170.615249  10.658026  163.00  170.00  178.00\n",
            "Weight_(kg)                    83.588655  21.343210   68.04   81.65   95.25\n",
            "BMI                            28.626211   6.522323   24.21   27.44   31.85\n",
            "Alcohol_Consumption             5.096366   8.199763    0.00    1.00    6.00\n",
            "Fruit_Consumption              29.835200  24.875735   12.00   30.00   30.00\n",
            "Green_Vegetables_Consumption   15.110441  14.926238    4.00   12.00   20.00\n",
            "FriedPotato_Consumption         6.296616   8.582954    2.00    4.00    8.00\n",
            "\n",
            "       General_Health               Checkup Exercise Heart_Disease  \\\n",
            "count          308854                308854   308854        308854   \n",
            "unique              5                     5        2             2   \n",
            "top         Very Good  Within the past year      Yes            No   \n",
            "freq           110395                239371   239381        283883   \n",
            "\n",
            "       Skin_Cancer Other_Cancer Depression Diabetes Arthritis     Sex  \\\n",
            "count       308854       308854     308854   308854    308854  308854   \n",
            "unique           2            2          2        4         2       2   \n",
            "top             No           No         No       No        No  Female   \n",
            "freq        278860       278976     246953   259141    207783  160196   \n",
            "\n",
            "       Age_Category Smoking_History  \n",
            "count        308854          308854  \n",
            "unique           13               2  \n",
            "top           65-69              No  \n",
            "freq          33434          183590  \n"
          ]
        }
      ],
      "source": [
        "## Showing the columns in alphabetical order\n",
        "df.columns.sort_values()\n",
        "\n",
        "## Showing the descriptions of numerical variables\n",
        "print('')\n",
        "num_describe = df.describe().T\n",
        "num_describe_table = num_describe.loc[:,['mean', 'std', '25%', '50%', '75%']]\n",
        "print(num_describe_table)\n",
        "\n",
        "## Showing the descriptions of categorical variables\n",
        "print('')\n",
        "object_describe_table = df.describe(include=object)\n",
        "print(object_describe_table)\n",
        "## print it to latex\n",
        "# print(object_describe_table.to_latex())"
      ]
    },
    {
      "cell_type": "markdown",
      "metadata": {
        "id": "zDt1xV5edUzp"
      },
      "source": [
        "# Feature Engineering (Preprocessing)"
      ]
    },
    {
      "cell_type": "markdown",
      "metadata": {
        "id": "JS3ws3-wdY39"
      },
      "source": [
        "Changing the values of Heart Disease to 0 and 1 for preprocessing steps"
      ]
    },
    {
      "cell_type": "code",
      "execution_count": 11,
      "metadata": {
        "colab": {
          "base_uri": "https://localhost:8080/"
        },
        "id": "jHYE2u_tdYXX",
        "outputId": "33d10896-b83b-439b-d881-b72bc2e4afce"
      },
      "outputs": [
        {
          "name": "stdout",
          "output_type": "stream",
          "text": [
            "\n",
            "Heart_Disease\n",
            "0    283883\n",
            "1     24971\n",
            "Name: count, dtype: int64\n"
          ]
        }
      ],
      "source": [
        "df['Heart_Disease'] = df['Heart_Disease'].map({'No':0,'Yes':1})\n",
        "print('')\n",
        "print(df['Heart_Disease'].value_counts())"
      ]
    },
    {
      "cell_type": "markdown",
      "metadata": {
        "id": "lcGshMHNdisq"
      },
      "source": [
        "Splitting the train and test set. Using stratify to keep the ratio between two classes be the same"
      ]
    },
    {
      "cell_type": "code",
      "execution_count": 12,
      "metadata": {
        "colab": {
          "base_uri": "https://localhost:8080/"
        },
        "id": "8JBkh3CMdjz6",
        "outputId": "2f3c85b0-b559-4184-a2a0-0d31c38b3b81"
      },
      "outputs": [
        {
          "name": "stdout",
          "output_type": "stream",
          "text": [
            "(247083, 19)\n",
            "(61771, 19)\n"
          ]
        }
      ],
      "source": [
        "from sklearn.model_selection import train_test_split\n",
        "\n",
        "train,test = train_test_split(df, test_size=0.2,random_state=22,stratify=df['Heart_Disease'])\n",
        "\n",
        "print(train.shape)\n",
        "print(test.shape)"
      ]
    },
    {
      "cell_type": "markdown",
      "metadata": {
        "id": "3tLDc8CddrrE"
      },
      "source": [
        "Showing the ratio of the target variable from train and test set"
      ]
    },
    {
      "cell_type": "code",
      "execution_count": 13,
      "metadata": {
        "colab": {
          "base_uri": "https://localhost:8080/"
        },
        "id": "qS6oaPVLdymX",
        "outputId": "c608d30a-0197-4a95-e4ef-d8f3bbb6474f"
      },
      "outputs": [
        {
          "name": "stdout",
          "output_type": "stream",
          "text": [
            "Train Set\n",
            "ratio of people with heart disease to total is 91.91486261701533\n",
            "ratio of people that dont have heart disease to total is 8.085137382984666\n",
            "\n",
            "Test Set\n",
            "ratio of people with heart disease to total is 91.91530005989866\n",
            "ratio of people that dont have heart disease to total is 8.084699940101341\n"
          ]
        }
      ],
      "source": [
        "yes = train['Heart_Disease'].value_counts()[0]/len(train['Heart_Disease'])*100\n",
        "no = train['Heart_Disease'].value_counts()[1]/len(train['Heart_Disease'])*100\n",
        "print('Train Set')\n",
        "print(f'ratio of people with heart disease to total is {yes}')\n",
        "print(f'ratio of people that dont have heart disease to total is {no}')\n",
        "print('')\n",
        "\n",
        "yes = test['Heart_Disease'].value_counts()[0]/len(test['Heart_Disease'])*100\n",
        "no = test['Heart_Disease'].value_counts()[1]/len(test['Heart_Disease'])*100\n",
        "print('Test Set')\n",
        "print(f'ratio of people with heart disease to total is {yes}')\n",
        "print(f'ratio of people that dont have heart disease to total is {no}')"
      ]
    },
    {
      "cell_type": "code",
      "execution_count": 14,
      "metadata": {
        "id": "lo2YJRJ-eHrb"
      },
      "outputs": [],
      "source": [
        "## Splitting the X and y variables in the train set\n",
        "X_train = train.drop(\"Heart_Disease\", axis=1)\n",
        "y_train = train[\"Heart_Disease\"].copy()\n",
        "\n",
        "## Splitting the X and y variables in the test set\n",
        "X_test = test.drop(\"Heart_Disease\", axis=1)\n",
        "y_test = test[\"Heart_Disease\"].copy()"
      ]
    },
    {
      "cell_type": "markdown",
      "metadata": {
        "id": "jWgsgJ_9eKix"
      },
      "source": [
        "Printing the number of unique values per each column"
      ]
    },
    {
      "cell_type": "code",
      "execution_count": 15,
      "metadata": {
        "colab": {
          "base_uri": "https://localhost:8080/"
        },
        "id": "lzkUNPLLeOtn",
        "outputId": "560cf6d3-9019-46b6-cbbd-d0f63d794ae6"
      },
      "outputs": [
        {
          "data": {
            "text/plain": [
              "General_Health                     5\n",
              "Checkup                            5\n",
              "Exercise                           2\n",
              "Skin_Cancer                        2\n",
              "Other_Cancer                       2\n",
              "Depression                         2\n",
              "Diabetes                           4\n",
              "Arthritis                          2\n",
              "Sex                                2\n",
              "Age_Category                      13\n",
              "Height_(cm)                       98\n",
              "Weight_(kg)                      502\n",
              "BMI                             3502\n",
              "Smoking_History                    2\n",
              "Alcohol_Consumption               31\n",
              "Fruit_Consumption                 73\n",
              "Green_Vegetables_Consumption      73\n",
              "FriedPotato_Consumption           67\n",
              "dtype: int64"
            ]
          },
          "execution_count": 15,
          "metadata": {},
          "output_type": "execute_result"
        }
      ],
      "source": [
        "X_train.nunique()"
      ]
    },
    {
      "cell_type": "markdown",
      "metadata": {
        "id": "cZXAliw4eRl8"
      },
      "source": [
        "Notes:\n",
        "* There are 8 categorical variables. Variables that are not in order.\n",
        "* There are 7 numerical variables.\n",
        "* There are 3 ordinal variables. The General Health, Age Category, and the Checkup variable, The data from this can be represented with an order."
      ]
    },
    {
      "cell_type": "markdown",
      "metadata": {
        "id": "9HOYdOBUemQx"
      },
      "source": [
        "# Creating Pipelines"
      ]
    },
    {
      "cell_type": "markdown",
      "metadata": {
        "id": "hc8Oda7GepFz"
      },
      "source": [
        "## Categorical Pipeline"
      ]
    },
    {
      "cell_type": "code",
      "execution_count": 16,
      "metadata": {
        "id": "E9Pk3i3eetUV"
      },
      "outputs": [],
      "source": [
        "cat_pipeline = make_pipeline(OneHotEncoder(handle_unknown='ignore',drop='first'))"
      ]
    },
    {
      "cell_type": "markdown",
      "metadata": {
        "id": "V1y5ezehewcw"
      },
      "source": [
        "* For categorical pipeline, only OneHotEncoder will be implemented. Since this dataset has been cleaned and there are no missing values."
      ]
    },
    {
      "cell_type": "markdown",
      "metadata": {
        "id": "zAgNpz3ve7ux"
      },
      "source": [
        "## Numerical Pipeline"
      ]
    },
    {
      "cell_type": "code",
      "execution_count": 17,
      "metadata": {
        "id": "psQahsyxe_Tl"
      },
      "outputs": [],
      "source": [
        "num_pipeline = make_pipeline(\n",
        "                             FunctionTransformer(np.log1p,feature_names_out='one-to-one'),\n",
        "                             StandardScaler()\n",
        "                            )"
      ]
    },
    {
      "cell_type": "markdown",
      "metadata": {
        "id": "yJr7P9ZgfCDm"
      },
      "source": [
        "For numerical pipeline, two methods are used:\n",
        "1. Log Transform: From the EDA, most of the numerical functions are skewed right.\n",
        "2. Standard Scaler: The numerical variable will be scaled to put them all on the same scale."
      ]
    },
    {
      "cell_type": "markdown",
      "metadata": {
        "id": "DmM1zGVhfVRW"
      },
      "source": [
        "## Ordinal Pipeline"
      ]
    },
    {
      "cell_type": "code",
      "execution_count": 18,
      "metadata": {
        "id": "aB4hkbW6eSvd"
      },
      "outputs": [],
      "source": [
        "## Age Category Pipeline\n",
        "agecat_pipeline = make_pipeline(\n",
        "        OrdinalEncoder()\n",
        ")\n",
        "\n",
        "## General Health Pipeline\n",
        "genhealth_pipeline = make_pipeline(\n",
        "        OrdinalEncoder(categories=[['Poor','Fair','Good','Very Good','Excellent']])\n",
        ")\n",
        "\n",
        "## Checkup Pipeline\n",
        "checkup_pipeline = make_pipeline(\n",
        "        OrdinalEncoder(categories=[['Within the past year','Within the past 2 years','Within the past 5 years','5 or more years ago','Never']])\n",
        ")"
      ]
    },
    {
      "cell_type": "markdown",
      "metadata": {
        "id": "7EkyapmTfaf1"
      },
      "source": [
        "* For the ordinal variable, the variables are transformed based on their order. The values with in the lowest order will start with 0 and increases by 1."
      ]
    },
    {
      "cell_type": "markdown",
      "metadata": {
        "id": "CW594kB6fsHI"
      },
      "source": [
        "## Creating the pipeline lists"
      ]
    },
    {
      "cell_type": "code",
      "execution_count": 19,
      "metadata": {
        "id": "j938a90zfuoh"
      },
      "outputs": [],
      "source": [
        "## Setting each column to the pipeline where they will be used\n",
        "num_pipe_col = numerical\n",
        "\n",
        "cat_pipe_col = ['Arthritis', 'Depression', 'Diabetes',\n",
        "       'Exercise', 'Other_Cancer', 'Sex',\n",
        "       'Skin_Cancer', 'Smoking_History']"
      ]
    },
    {
      "cell_type": "markdown",
      "metadata": {
        "id": "fFtyB0qvf3pT"
      },
      "source": [
        "## Finalizing the preprocessing pipeline for the testing dataset"
      ]
    },
    {
      "cell_type": "code",
      "execution_count": 20,
      "metadata": {
        "colab": {
          "base_uri": "https://localhost:8080/",
          "height": 151
        },
        "id": "Ac7iyECqf5Os",
        "outputId": "443731f1-4227-436d-939c-9bfec1396573"
      },
      "outputs": [
        {
          "data": {
            "text/html": [
              "<style>#sk-container-id-1 {color: black;}#sk-container-id-1 pre{padding: 0;}#sk-container-id-1 div.sk-toggleable {background-color: white;}#sk-container-id-1 label.sk-toggleable__label {cursor: pointer;display: block;width: 100%;margin-bottom: 0;padding: 0.3em;box-sizing: border-box;text-align: center;}#sk-container-id-1 label.sk-toggleable__label-arrow:before {content: \"▸\";float: left;margin-right: 0.25em;color: #696969;}#sk-container-id-1 label.sk-toggleable__label-arrow:hover:before {color: black;}#sk-container-id-1 div.sk-estimator:hover label.sk-toggleable__label-arrow:before {color: black;}#sk-container-id-1 div.sk-toggleable__content {max-height: 0;max-width: 0;overflow: hidden;text-align: left;background-color: #f0f8ff;}#sk-container-id-1 div.sk-toggleable__content pre {margin: 0.2em;color: black;border-radius: 0.25em;background-color: #f0f8ff;}#sk-container-id-1 input.sk-toggleable__control:checked~div.sk-toggleable__content {max-height: 200px;max-width: 100%;overflow: auto;}#sk-container-id-1 input.sk-toggleable__control:checked~label.sk-toggleable__label-arrow:before {content: \"▾\";}#sk-container-id-1 div.sk-estimator input.sk-toggleable__control:checked~label.sk-toggleable__label {background-color: #d4ebff;}#sk-container-id-1 div.sk-label input.sk-toggleable__control:checked~label.sk-toggleable__label {background-color: #d4ebff;}#sk-container-id-1 input.sk-hidden--visually {border: 0;clip: rect(1px 1px 1px 1px);clip: rect(1px, 1px, 1px, 1px);height: 1px;margin: -1px;overflow: hidden;padding: 0;position: absolute;width: 1px;}#sk-container-id-1 div.sk-estimator {font-family: monospace;background-color: #f0f8ff;border: 1px dotted black;border-radius: 0.25em;box-sizing: border-box;margin-bottom: 0.5em;}#sk-container-id-1 div.sk-estimator:hover {background-color: #d4ebff;}#sk-container-id-1 div.sk-parallel-item::after {content: \"\";width: 100%;border-bottom: 1px solid gray;flex-grow: 1;}#sk-container-id-1 div.sk-label:hover label.sk-toggleable__label {background-color: #d4ebff;}#sk-container-id-1 div.sk-serial::before {content: \"\";position: absolute;border-left: 1px solid gray;box-sizing: border-box;top: 0;bottom: 0;left: 50%;z-index: 0;}#sk-container-id-1 div.sk-serial {display: flex;flex-direction: column;align-items: center;background-color: white;padding-right: 0.2em;padding-left: 0.2em;position: relative;}#sk-container-id-1 div.sk-item {position: relative;z-index: 1;}#sk-container-id-1 div.sk-parallel {display: flex;align-items: stretch;justify-content: center;background-color: white;position: relative;}#sk-container-id-1 div.sk-item::before, #sk-container-id-1 div.sk-parallel-item::before {content: \"\";position: absolute;border-left: 1px solid gray;box-sizing: border-box;top: 0;bottom: 0;left: 50%;z-index: -1;}#sk-container-id-1 div.sk-parallel-item {display: flex;flex-direction: column;z-index: 1;position: relative;background-color: white;}#sk-container-id-1 div.sk-parallel-item:first-child::after {align-self: flex-end;width: 50%;}#sk-container-id-1 div.sk-parallel-item:last-child::after {align-self: flex-start;width: 50%;}#sk-container-id-1 div.sk-parallel-item:only-child::after {width: 0;}#sk-container-id-1 div.sk-dashed-wrapped {border: 1px dashed gray;margin: 0 0.4em 0.5em 0.4em;box-sizing: border-box;padding-bottom: 0.4em;background-color: white;}#sk-container-id-1 div.sk-label label {font-family: monospace;font-weight: bold;display: inline-block;line-height: 1.2em;}#sk-container-id-1 div.sk-label-container {text-align: center;}#sk-container-id-1 div.sk-container {/* jupyter's `normalize.less` sets `[hidden] { display: none; }` but bootstrap.min.css set `[hidden] { display: none !important; }` so we also need the `!important` here to be able to override the default hidden behavior on the sphinx rendered scikit-learn.org. See: https://github.com/scikit-learn/scikit-learn/issues/21755 */display: inline-block !important;position: relative;}#sk-container-id-1 div.sk-text-repr-fallback {display: none;}</style><div id=\"sk-container-id-1\" class=\"sk-top-container\"><div class=\"sk-text-repr-fallback\"><pre>ColumnTransformer(remainder=&#x27;passthrough&#x27;,\n",
              "                  transformers=[(&#x27;Categorical&#x27;,\n",
              "                                 Pipeline(steps=[(&#x27;onehotencoder&#x27;,\n",
              "                                                  OneHotEncoder(drop=&#x27;first&#x27;,\n",
              "                                                                handle_unknown=&#x27;ignore&#x27;))]),\n",
              "                                 [&#x27;Arthritis&#x27;, &#x27;Depression&#x27;, &#x27;Diabetes&#x27;,\n",
              "                                  &#x27;Exercise&#x27;, &#x27;Other_Cancer&#x27;, &#x27;Sex&#x27;,\n",
              "                                  &#x27;Skin_Cancer&#x27;, &#x27;Smoking_History&#x27;]),\n",
              "                                (&#x27;Age_Category&#x27;,\n",
              "                                 Pipeline(steps=[(&#x27;ordinalencoder&#x27;,\n",
              "                                                  OrdinalEncoder())]),\n",
              "                                 [&#x27;Age_Category&#x27;]),...\n",
              "                                                                              &#x27;Excellent&#x27;]]))]),\n",
              "                                 [&#x27;General_Health&#x27;]),\n",
              "                                (&#x27;Numerical&#x27;,\n",
              "                                 Pipeline(steps=[(&#x27;functiontransformer&#x27;,\n",
              "                                                  FunctionTransformer(feature_names_out=&#x27;one-to-one&#x27;,\n",
              "                                                                      func=&lt;ufunc &#x27;log1p&#x27;&gt;)),\n",
              "                                                 (&#x27;standardscaler&#x27;,\n",
              "                                                  StandardScaler())]),\n",
              "                                 Index([&#x27;Alcohol_Consumption&#x27;, &#x27;BMI&#x27;, &#x27;FriedPotato_Consumption&#x27;,\n",
              "       &#x27;Fruit_Consumption&#x27;, &#x27;Green_Vegetables_Consumption&#x27;, &#x27;Height_(cm)&#x27;,\n",
              "       &#x27;Weight_(kg)&#x27;],\n",
              "      dtype=&#x27;object&#x27;))])</pre><b>In a Jupyter environment, please rerun this cell to show the HTML representation or trust the notebook. <br />On GitHub, the HTML representation is unable to render, please try loading this page with nbviewer.org.</b></div><div class=\"sk-container\" hidden><div class=\"sk-item sk-dashed-wrapped\"><div class=\"sk-label-container\"><div class=\"sk-label sk-toggleable\"><input class=\"sk-toggleable__control sk-hidden--visually\" id=\"sk-estimator-id-1\" type=\"checkbox\" ><label for=\"sk-estimator-id-1\" class=\"sk-toggleable__label sk-toggleable__label-arrow\">ColumnTransformer</label><div class=\"sk-toggleable__content\"><pre>ColumnTransformer(remainder=&#x27;passthrough&#x27;,\n",
              "                  transformers=[(&#x27;Categorical&#x27;,\n",
              "                                 Pipeline(steps=[(&#x27;onehotencoder&#x27;,\n",
              "                                                  OneHotEncoder(drop=&#x27;first&#x27;,\n",
              "                                                                handle_unknown=&#x27;ignore&#x27;))]),\n",
              "                                 [&#x27;Arthritis&#x27;, &#x27;Depression&#x27;, &#x27;Diabetes&#x27;,\n",
              "                                  &#x27;Exercise&#x27;, &#x27;Other_Cancer&#x27;, &#x27;Sex&#x27;,\n",
              "                                  &#x27;Skin_Cancer&#x27;, &#x27;Smoking_History&#x27;]),\n",
              "                                (&#x27;Age_Category&#x27;,\n",
              "                                 Pipeline(steps=[(&#x27;ordinalencoder&#x27;,\n",
              "                                                  OrdinalEncoder())]),\n",
              "                                 [&#x27;Age_Category&#x27;]),...\n",
              "                                                                              &#x27;Excellent&#x27;]]))]),\n",
              "                                 [&#x27;General_Health&#x27;]),\n",
              "                                (&#x27;Numerical&#x27;,\n",
              "                                 Pipeline(steps=[(&#x27;functiontransformer&#x27;,\n",
              "                                                  FunctionTransformer(feature_names_out=&#x27;one-to-one&#x27;,\n",
              "                                                                      func=&lt;ufunc &#x27;log1p&#x27;&gt;)),\n",
              "                                                 (&#x27;standardscaler&#x27;,\n",
              "                                                  StandardScaler())]),\n",
              "                                 Index([&#x27;Alcohol_Consumption&#x27;, &#x27;BMI&#x27;, &#x27;FriedPotato_Consumption&#x27;,\n",
              "       &#x27;Fruit_Consumption&#x27;, &#x27;Green_Vegetables_Consumption&#x27;, &#x27;Height_(cm)&#x27;,\n",
              "       &#x27;Weight_(kg)&#x27;],\n",
              "      dtype=&#x27;object&#x27;))])</pre></div></div></div><div class=\"sk-parallel\"><div class=\"sk-parallel-item\"><div class=\"sk-item\"><div class=\"sk-label-container\"><div class=\"sk-label sk-toggleable\"><input class=\"sk-toggleable__control sk-hidden--visually\" id=\"sk-estimator-id-2\" type=\"checkbox\" ><label for=\"sk-estimator-id-2\" class=\"sk-toggleable__label sk-toggleable__label-arrow\">Categorical</label><div class=\"sk-toggleable__content\"><pre>[&#x27;Arthritis&#x27;, &#x27;Depression&#x27;, &#x27;Diabetes&#x27;, &#x27;Exercise&#x27;, &#x27;Other_Cancer&#x27;, &#x27;Sex&#x27;, &#x27;Skin_Cancer&#x27;, &#x27;Smoking_History&#x27;]</pre></div></div></div><div class=\"sk-serial\"><div class=\"sk-item\"><div class=\"sk-serial\"><div class=\"sk-item\"><div class=\"sk-estimator sk-toggleable\"><input class=\"sk-toggleable__control sk-hidden--visually\" id=\"sk-estimator-id-3\" type=\"checkbox\" ><label for=\"sk-estimator-id-3\" class=\"sk-toggleable__label sk-toggleable__label-arrow\">OneHotEncoder</label><div class=\"sk-toggleable__content\"><pre>OneHotEncoder(drop=&#x27;first&#x27;, handle_unknown=&#x27;ignore&#x27;)</pre></div></div></div></div></div></div></div></div><div class=\"sk-parallel-item\"><div class=\"sk-item\"><div class=\"sk-label-container\"><div class=\"sk-label sk-toggleable\"><input class=\"sk-toggleable__control sk-hidden--visually\" id=\"sk-estimator-id-4\" type=\"checkbox\" ><label for=\"sk-estimator-id-4\" class=\"sk-toggleable__label sk-toggleable__label-arrow\">Age_Category</label><div class=\"sk-toggleable__content\"><pre>[&#x27;Age_Category&#x27;]</pre></div></div></div><div class=\"sk-serial\"><div class=\"sk-item\"><div class=\"sk-serial\"><div class=\"sk-item\"><div class=\"sk-estimator sk-toggleable\"><input class=\"sk-toggleable__control sk-hidden--visually\" id=\"sk-estimator-id-5\" type=\"checkbox\" ><label for=\"sk-estimator-id-5\" class=\"sk-toggleable__label sk-toggleable__label-arrow\">OrdinalEncoder</label><div class=\"sk-toggleable__content\"><pre>OrdinalEncoder()</pre></div></div></div></div></div></div></div></div><div class=\"sk-parallel-item\"><div class=\"sk-item\"><div class=\"sk-label-container\"><div class=\"sk-label sk-toggleable\"><input class=\"sk-toggleable__control sk-hidden--visually\" id=\"sk-estimator-id-6\" type=\"checkbox\" ><label for=\"sk-estimator-id-6\" class=\"sk-toggleable__label sk-toggleable__label-arrow\">Checkup</label><div class=\"sk-toggleable__content\"><pre>[&#x27;Checkup&#x27;]</pre></div></div></div><div class=\"sk-serial\"><div class=\"sk-item\"><div class=\"sk-serial\"><div class=\"sk-item\"><div class=\"sk-estimator sk-toggleable\"><input class=\"sk-toggleable__control sk-hidden--visually\" id=\"sk-estimator-id-7\" type=\"checkbox\" ><label for=\"sk-estimator-id-7\" class=\"sk-toggleable__label sk-toggleable__label-arrow\">OrdinalEncoder</label><div class=\"sk-toggleable__content\"><pre>OrdinalEncoder(categories=[[&#x27;Within the past year&#x27;, &#x27;Within the past 2 years&#x27;,\n",
              "                            &#x27;Within the past 5 years&#x27;, &#x27;5 or more years ago&#x27;,\n",
              "                            &#x27;Never&#x27;]])</pre></div></div></div></div></div></div></div></div><div class=\"sk-parallel-item\"><div class=\"sk-item\"><div class=\"sk-label-container\"><div class=\"sk-label sk-toggleable\"><input class=\"sk-toggleable__control sk-hidden--visually\" id=\"sk-estimator-id-8\" type=\"checkbox\" ><label for=\"sk-estimator-id-8\" class=\"sk-toggleable__label sk-toggleable__label-arrow\">Gen_health</label><div class=\"sk-toggleable__content\"><pre>[&#x27;General_Health&#x27;]</pre></div></div></div><div class=\"sk-serial\"><div class=\"sk-item\"><div class=\"sk-serial\"><div class=\"sk-item\"><div class=\"sk-estimator sk-toggleable\"><input class=\"sk-toggleable__control sk-hidden--visually\" id=\"sk-estimator-id-9\" type=\"checkbox\" ><label for=\"sk-estimator-id-9\" class=\"sk-toggleable__label sk-toggleable__label-arrow\">OrdinalEncoder</label><div class=\"sk-toggleable__content\"><pre>OrdinalEncoder(categories=[[&#x27;Poor&#x27;, &#x27;Fair&#x27;, &#x27;Good&#x27;, &#x27;Very Good&#x27;, &#x27;Excellent&#x27;]])</pre></div></div></div></div></div></div></div></div><div class=\"sk-parallel-item\"><div class=\"sk-item\"><div class=\"sk-label-container\"><div class=\"sk-label sk-toggleable\"><input class=\"sk-toggleable__control sk-hidden--visually\" id=\"sk-estimator-id-10\" type=\"checkbox\" ><label for=\"sk-estimator-id-10\" class=\"sk-toggleable__label sk-toggleable__label-arrow\">Numerical</label><div class=\"sk-toggleable__content\"><pre>Index([&#x27;Alcohol_Consumption&#x27;, &#x27;BMI&#x27;, &#x27;FriedPotato_Consumption&#x27;,\n",
              "       &#x27;Fruit_Consumption&#x27;, &#x27;Green_Vegetables_Consumption&#x27;, &#x27;Height_(cm)&#x27;,\n",
              "       &#x27;Weight_(kg)&#x27;],\n",
              "      dtype=&#x27;object&#x27;)</pre></div></div></div><div class=\"sk-serial\"><div class=\"sk-item\"><div class=\"sk-serial\"><div class=\"sk-item\"><div class=\"sk-estimator sk-toggleable\"><input class=\"sk-toggleable__control sk-hidden--visually\" id=\"sk-estimator-id-11\" type=\"checkbox\" ><label for=\"sk-estimator-id-11\" class=\"sk-toggleable__label sk-toggleable__label-arrow\">FunctionTransformer</label><div class=\"sk-toggleable__content\"><pre>FunctionTransformer(feature_names_out=&#x27;one-to-one&#x27;, func=&lt;ufunc &#x27;log1p&#x27;&gt;)</pre></div></div></div><div class=\"sk-item\"><div class=\"sk-estimator sk-toggleable\"><input class=\"sk-toggleable__control sk-hidden--visually\" id=\"sk-estimator-id-12\" type=\"checkbox\" ><label for=\"sk-estimator-id-12\" class=\"sk-toggleable__label sk-toggleable__label-arrow\">StandardScaler</label><div class=\"sk-toggleable__content\"><pre>StandardScaler()</pre></div></div></div></div></div></div></div></div><div class=\"sk-parallel-item\"><div class=\"sk-item\"><div class=\"sk-label-container\"><div class=\"sk-label sk-toggleable\"><input class=\"sk-toggleable__control sk-hidden--visually\" id=\"sk-estimator-id-13\" type=\"checkbox\" ><label for=\"sk-estimator-id-13\" class=\"sk-toggleable__label sk-toggleable__label-arrow\">remainder</label><div class=\"sk-toggleable__content\"><pre></pre></div></div></div><div class=\"sk-serial\"><div class=\"sk-item\"><div class=\"sk-estimator sk-toggleable\"><input class=\"sk-toggleable__control sk-hidden--visually\" id=\"sk-estimator-id-14\" type=\"checkbox\" ><label for=\"sk-estimator-id-14\" class=\"sk-toggleable__label sk-toggleable__label-arrow\">passthrough</label><div class=\"sk-toggleable__content\"><pre>passthrough</pre></div></div></div></div></div></div></div></div></div></div>"
            ],
            "text/plain": [
              "ColumnTransformer(remainder='passthrough',\n",
              "                  transformers=[('Categorical',\n",
              "                                 Pipeline(steps=[('onehotencoder',\n",
              "                                                  OneHotEncoder(drop='first',\n",
              "                                                                handle_unknown='ignore'))]),\n",
              "                                 ['Arthritis', 'Depression', 'Diabetes',\n",
              "                                  'Exercise', 'Other_Cancer', 'Sex',\n",
              "                                  'Skin_Cancer', 'Smoking_History']),\n",
              "                                ('Age_Category',\n",
              "                                 Pipeline(steps=[('ordinalencoder',\n",
              "                                                  OrdinalEncoder())]),\n",
              "                                 ['Age_Category']),...\n",
              "                                                                              'Excellent']]))]),\n",
              "                                 ['General_Health']),\n",
              "                                ('Numerical',\n",
              "                                 Pipeline(steps=[('functiontransformer',\n",
              "                                                  FunctionTransformer(feature_names_out='one-to-one',\n",
              "                                                                      func=<ufunc 'log1p'>)),\n",
              "                                                 ('standardscaler',\n",
              "                                                  StandardScaler())]),\n",
              "                                 Index(['Alcohol_Consumption', 'BMI', 'FriedPotato_Consumption',\n",
              "       'Fruit_Consumption', 'Green_Vegetables_Consumption', 'Height_(cm)',\n",
              "       'Weight_(kg)'],\n",
              "      dtype='object'))])"
            ]
          },
          "execution_count": 20,
          "metadata": {},
          "output_type": "execute_result"
        }
      ],
      "source": [
        "## Combining all the pipelines and creating a main pipeline to enter all the data\n",
        "preprocessing = ColumnTransformer([\n",
        "    ('Categorical', cat_pipeline,   cat_pipe_col),\n",
        "    ('Age_Category',agecat_pipeline,['Age_Category']),\n",
        "    ('Checkup',checkup_pipeline,['Checkup']),\n",
        "    ('Gen_health',genhealth_pipeline,['General_Health']),\n",
        "    ('Numerical',   num_pipeline,  num_pipe_col),\n",
        "],remainder='passthrough')\n",
        "preprocessing"
      ]
    },
    {
      "cell_type": "code",
      "execution_count": 21,
      "metadata": {
        "colab": {
          "base_uri": "https://localhost:8080/"
        },
        "id": "OGvdGARhfyxE",
        "outputId": "36f1000f-587e-4270-ba40-db8ccd356b8a"
      },
      "outputs": [
        {
          "name": "stdout",
          "output_type": "stream",
          "text": [
            "Shape before the preprocessing:\n",
            "(61771, 18)\n",
            "Shape after the preprocessing:\n",
            "(247083, 20)\n"
          ]
        }
      ],
      "source": [
        "## Using preprocessing pipeline\n",
        "print('Shape before the preprocessing:')\n",
        "print(X_test.shape)\n",
        "\n",
        "test_preprocessed = preprocessing.fit_transform(X_train)\n",
        "\n",
        "print('Shape after the preprocessing:')\n",
        "print(test_preprocessed.shape)"
      ]
    },
    {
      "cell_type": "code",
      "execution_count": 22,
      "metadata": {
        "colab": {
          "base_uri": "https://localhost:8080/"
        },
        "id": "nryoU6jC2a9f",
        "outputId": "50ec26f1-3834-4bdd-ae52-2a2f24f867a0"
      },
      "outputs": [
        {
          "data": {
            "text/plain": [
              "array([[ 0.00000000e+00,  0.00000000e+00,  0.00000000e+00,\n",
              "         0.00000000e+00,  0.00000000e+00,  0.00000000e+00,\n",
              "         0.00000000e+00,  0.00000000e+00,  0.00000000e+00,\n",
              "         0.00000000e+00,  7.00000000e+00,  0.00000000e+00,\n",
              "         4.00000000e+00,  1.87007552e+00, -1.52461967e+00,\n",
              "        -4.87091678e-01,  6.13004916e-03, -9.53748411e-01,\n",
              "        -2.13824879e-01, -1.45449652e+00],\n",
              "       [ 0.00000000e+00,  0.00000000e+00,  0.00000000e+00,\n",
              "         0.00000000e+00,  0.00000000e+00,  1.00000000e+00,\n",
              "         1.00000000e+00,  1.00000000e+00,  1.00000000e+00,\n",
              "         0.00000000e+00,  1.20000000e+01,  0.00000000e+00,\n",
              "         3.00000000e+00, -9.10705045e-01, -7.75562687e-01,\n",
              "        -1.66354705e+00, -2.04183373e-01, -7.34162436e-01,\n",
              "         8.86072283e-01, -2.05255774e-01],\n",
              "       [ 0.00000000e+00,  0.00000000e+00,  0.00000000e+00,\n",
              "         0.00000000e+00,  0.00000000e+00,  1.00000000e+00,\n",
              "         0.00000000e+00,  1.00000000e+00,  0.00000000e+00,\n",
              "         0.00000000e+00,  9.00000000e+00,  0.00000000e+00,\n",
              "         4.00000000e+00, -9.10705045e-01, -2.32812829e-01,\n",
              "         1.08314391e+00, -4.71183320e-01,  4.70102354e-01,\n",
              "        -2.13824879e-01, -3.26905335e-01],\n",
              "       [ 0.00000000e+00,  0.00000000e+00,  0.00000000e+00,\n",
              "         0.00000000e+00,  0.00000000e+00,  1.00000000e+00,\n",
              "         0.00000000e+00,  1.00000000e+00,  0.00000000e+00,\n",
              "         0.00000000e+00,  1.20000000e+01,  0.00000000e+00,\n",
              "         2.00000000e+00, -3.19104954e-01, -7.91320307e-01,\n",
              "         1.37041597e+00,  3.93759689e-01, -1.23684397e+00,\n",
              "         4.36914626e-01, -4.52251923e-01],\n",
              "       [ 0.00000000e+00,  0.00000000e+00,  0.00000000e+00,\n",
              "         0.00000000e+00,  0.00000000e+00,  1.00000000e+00,\n",
              "         0.00000000e+00,  0.00000000e+00,  0.00000000e+00,\n",
              "         0.00000000e+00,  2.00000000e+00,  0.00000000e+00,\n",
              "         2.00000000e+00, -3.19104954e-01,  9.17525627e-01,\n",
              "         6.89363691e-01,  3.93759689e-01,  2.06115298e-01,\n",
              "        -1.49722004e+00,  2.77819650e-02]])"
            ]
          },
          "execution_count": 22,
          "metadata": {},
          "output_type": "execute_result"
        }
      ],
      "source": [
        "test_preprocessed[:5]"
      ]
    },
    {
      "cell_type": "markdown",
      "metadata": {
        "id": "tXSw7fah3BTn"
      },
      "source": [
        "# Model Testing"
      ]
    },
    {
      "cell_type": "markdown",
      "metadata": {
        "id": "aElJFhclJHOJ"
      },
      "source": [
        "## Loading the Model"
      ]
    },
    {
      "cell_type": "code",
      "execution_count": 24,
      "metadata": {},
      "outputs": [],
      "source": [
        "# Load the MLP model from the pickle file\n",
        "with open('../models/mlp_model_rfe_94_v3.pkl', 'rb') as f:\n",
        "    mlp_model_rfe = pickle.load(f)"
      ]
    },
    {
      "cell_type": "code",
      "execution_count": 31,
      "metadata": {},
      "outputs": [],
      "source": [
        "max_iterations = 10"
      ]
    },
    {
      "cell_type": "markdown",
      "metadata": {
        "id": "yVFXchyvX_8Z"
      },
      "source": [
        "## Initialise Lists to Store Evaluation Metrics After Each Iteration"
      ]
    },
    {
      "cell_type": "code",
      "execution_count": 25,
      "metadata": {
        "id": "OA7R2VCbYRW8"
      },
      "outputs": [],
      "source": [
        "# Initialize lists to store evaluation metrics after each iteration\n",
        "accuracy_scores = []\n",
        "precision_scores = []\n",
        "recall_scores = []\n",
        "roc_auc_scores = []\n",
        "confusion_matrices = []\n",
        "loss_scores = []"
      ]
    },
    {
      "cell_type": "markdown",
      "metadata": {
        "id": "xMjRuvvnYUNe"
      },
      "source": [
        "## Plot/Output Testing Progress"
      ]
    },
    {
      "cell_type": "code",
      "execution_count": 38,
      "metadata": {},
      "outputs": [
        {
          "name": "stdout",
          "output_type": "stream",
          "text": [
            "Accuracy: 0.8887018180052128\n",
            "Precision: 0.23424696241876236\n",
            "Recall: 0.1659991990388466\n",
            "ROC AUC: 0.5591343019517462\n",
            "Confusion Matrix:\n",
            " [[54067  2710]\n",
            " [ 4165   829]]\n",
            "Classification Report:\n",
            "               precision    recall  f1-score   support\n",
            "\n",
            "           0       0.93      0.95      0.94     56777\n",
            "           1       0.23      0.17      0.19      4994\n",
            "\n",
            "    accuracy                           0.89     61771\n",
            "   macro avg       0.58      0.56      0.57     61771\n",
            "weighted avg       0.87      0.89      0.88     61771\n",
            "\n"
          ]
        }
      ],
      "source": [
        "# Transform the test set using the same preprocessing pipeline\n",
        "test_preprocessed = preprocessing.transform(X_test)\n",
        "\n",
        "# Generate predictions on the test set\n",
        "test_predictions = mlp_model_rfe.predict(test_preprocessed)\n",
        "\n",
        "# Calculate evaluation metrics\n",
        "accuracy = accuracy_score(y_test, test_predictions)\n",
        "precision = precision_score(y_test, test_predictions)\n",
        "recall = recall_score(y_test, test_predictions)\n",
        "roc_auc = roc_auc_score(y_test, test_predictions)\n",
        "conf_matrix = confusion_matrix(y_test, test_predictions)\n",
        "\n",
        "# Print or visualize the metrics\n",
        "print(\"Accuracy:\", accuracy)\n",
        "print(\"Precision:\", precision)\n",
        "print(\"Recall:\", recall)\n",
        "print(\"ROC AUC:\", roc_auc)\n",
        "print(\"Confusion Matrix:\\n\", conf_matrix)\n",
        "\n",
        "# Display classification report\n",
        "classification_rep = classification_report(y_test, test_predictions)\n",
        "print(\"Classification Report:\\n\", classification_rep)"
      ]
    },
    {
      "cell_type": "markdown",
      "metadata": {},
      "source": [
        "# Testing a Single Entry"
      ]
    },
    {
      "cell_type": "code",
      "execution_count": 49,
      "metadata": {},
      "outputs": [
        {
          "name": "stdout",
          "output_type": "stream",
          "text": [
            "Prediction: 1\n"
          ]
        }
      ],
      "source": [
        "# Assuming single_entry is a pandas DataFrame with the same features as your model expects\n",
        "single_entry = pd.DataFrame({\n",
        "    'General_Health': ['Poor'],\n",
        "    'Checkup': ['Within the past 2 years'],\n",
        "    'Exercise': ['Yes'],\n",
        "    'Skin_Cancer': ['Yes'],\n",
        "    'Other_Cancer': ['Yes'],\n",
        "    'Depression': ['Yes'],\n",
        "    'Diabetes': ['Yes'],\n",
        "    'Arthritis': ['Yes'],\n",
        "    'Sex': ['Female'],\n",
        "    'Age_Category': ['70-74'],\n",
        "    'Height_(cm)': [150.0],\n",
        "    'Weight_(kg)': [32.66],\n",
        "    'BMI': [20004],\n",
        "    'Smoking_History': ['Yes'],\n",
        "    'Alcohol_Consumption': [0.0],\n",
        "    'Fruit_Consumption': [30.0],\n",
        "    'Green_Vegetables_Consumption': [16.0],\n",
        "    'FriedPotato_Consumption': [12.0]\n",
        "})\n",
        "\n",
        "# Apply the same preprocessing steps\n",
        "single_entry_preprocessed = preprocessing.transform(single_entry)\n",
        "\n",
        "# Use the trained model to make predictions\n",
        "prediction = mlp_model_rfe.predict(single_entry_preprocessed)\n",
        "\n",
        "# Print or use the prediction as needed\n",
        "print(\"Prediction:\", prediction[0])\n"
      ]
    },
    {
      "cell_type": "code",
      "execution_count": 50,
      "metadata": {},
      "outputs": [
        {
          "name": "stdout",
          "output_type": "stream",
          "text": [
            "Prediction: 0\n"
          ]
        }
      ],
      "source": [
        "# Assuming single_entry is a pandas DataFrame with the same features as your model expects\n",
        "single_entry = pd.DataFrame({\n",
        "    'General_Health': ['Poor'],\n",
        "    'Checkup': ['Within the past 2 years'],\n",
        "    'Exercise': ['Yes'],\n",
        "    'Skin_Cancer': ['Yes'],\n",
        "    'Other_Cancer': ['Yes'],\n",
        "    'Depression': ['No'],\n",
        "    'Diabetes': ['No'],\n",
        "    'Arthritis': ['No'],\n",
        "    'Sex': ['Female'],\n",
        "    'Age_Category': ['70-74'],\n",
        "    'Height_(cm)': [150.0],\n",
        "    'Weight_(kg)': [32.66],\n",
        "    'BMI': [14.54],\n",
        "    'Smoking_History': ['Yes'],\n",
        "    'Alcohol_Consumption': [0.0],\n",
        "    'Fruit_Consumption': [30.0],\n",
        "    'Green_Vegetables_Consumption': [16.0],\n",
        "    'FriedPotato_Consumption': [12.0]\n",
        "})\n",
        "\n",
        "# Apply the same preprocessing steps\n",
        "single_entry_preprocessed = preprocessing.transform(single_entry)\n",
        "\n",
        "# Use the trained model to make predictions\n",
        "prediction = mlp_model_rfe.predict(single_entry_preprocessed)\n",
        "\n",
        "# Print or use the prediction as needed\n",
        "print(\"Prediction:\", prediction[0])\n"
      ]
    }
  ],
  "metadata": {
    "colab": {
      "provenance": []
    },
    "kernelspec": {
      "display_name": "Python 3",
      "name": "python3"
    },
    "language_info": {
      "codemirror_mode": {
        "name": "ipython",
        "version": 3
      },
      "file_extension": ".py",
      "mimetype": "text/x-python",
      "name": "python",
      "nbconvert_exporter": "python",
      "pygments_lexer": "ipython3",
      "version": "3.11.6"
    }
  },
  "nbformat": 4,
  "nbformat_minor": 0
}
