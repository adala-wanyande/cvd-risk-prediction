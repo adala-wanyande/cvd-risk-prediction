{
 "cells": [
  {
   "cell_type": "markdown",
   "metadata": {},
   "source": [
    "# Feature Selection (Recursive Feature Selection)"
   ]
  },
  {
   "cell_type": "markdown",
   "metadata": {},
   "source": [
    "## Importing Dependencies"
   ]
  },
  {
   "cell_type": "code",
   "execution_count": 18,
   "metadata": {},
   "outputs": [],
   "source": [
    "import pandas as pd\n",
    "from sklearn.feature_selection import RFE\n",
    "from sklearn.ensemble import RandomForestClassifier"
   ]
  },
  {
   "cell_type": "markdown",
   "metadata": {},
   "source": [
    "## Defining Feature Selection Functions"
   ]
  },
  {
   "cell_type": "code",
   "execution_count": 38,
   "metadata": {},
   "outputs": [],
   "source": [
    "## printing the shape and head\n",
    "def head(df,shape_only=False):\n",
    "    print(df.shape)\n",
    "\n",
    "    if shape_only:\n",
    "        return\n",
    "    else:\n",
    "        return df.head()\n",
    "    \n",
    "def save_csv(df, filename):\n",
    "  \"\"\"\n",
    "  Saves the DataFrame to a CSV file.\n",
    "\n",
    "  Args:\n",
    "    df: A Pandas DataFrame.\n",
    "    filename: The name of the CSV file to save.\n",
    "\n",
    "  Returns:\n",
    "    None.\n",
    "  \"\"\"\n",
    "\n",
    "  df.to_csv(filename)"
   ]
  },
  {
   "cell_type": "markdown",
   "metadata": {},
   "source": [
    "## Loading the Dataset and Declaring Variable"
   ]
  },
  {
   "cell_type": "code",
   "execution_count": 28,
   "metadata": {},
   "outputs": [
    {
     "name": "stdout",
     "output_type": "stream",
     "text": [
      "(247083, 19)\n"
     ]
    },
    {
     "data": {
      "text/html": [
       "<div>\n",
       "<style scoped>\n",
       "    .dataframe tbody tr th:only-of-type {\n",
       "        vertical-align: middle;\n",
       "    }\n",
       "\n",
       "    .dataframe tbody tr th {\n",
       "        vertical-align: top;\n",
       "    }\n",
       "\n",
       "    .dataframe thead th {\n",
       "        text-align: right;\n",
       "    }\n",
       "</style>\n",
       "<table border=\"1\" class=\"dataframe\">\n",
       "  <thead>\n",
       "    <tr style=\"text-align: right;\">\n",
       "      <th></th>\n",
       "      <th>0</th>\n",
       "      <th>1</th>\n",
       "      <th>2</th>\n",
       "      <th>3</th>\n",
       "      <th>4</th>\n",
       "      <th>5</th>\n",
       "      <th>6</th>\n",
       "      <th>7</th>\n",
       "      <th>8</th>\n",
       "      <th>9</th>\n",
       "      <th>10</th>\n",
       "      <th>11</th>\n",
       "      <th>12</th>\n",
       "      <th>13</th>\n",
       "      <th>14</th>\n",
       "      <th>15</th>\n",
       "      <th>16</th>\n",
       "      <th>17</th>\n",
       "      <th>18</th>\n",
       "    </tr>\n",
       "  </thead>\n",
       "  <tbody>\n",
       "    <tr>\n",
       "      <th>0</th>\n",
       "      <td>0.0</td>\n",
       "      <td>0.0</td>\n",
       "      <td>0.0</td>\n",
       "      <td>0.0</td>\n",
       "      <td>0.0</td>\n",
       "      <td>0.0</td>\n",
       "      <td>0.0</td>\n",
       "      <td>0.0</td>\n",
       "      <td>0.0</td>\n",
       "      <td>0.0</td>\n",
       "      <td>7.0</td>\n",
       "      <td>0.0</td>\n",
       "      <td>4.0</td>\n",
       "      <td>1.870076</td>\n",
       "      <td>-0.487092</td>\n",
       "      <td>0.006130</td>\n",
       "      <td>-0.953748</td>\n",
       "      <td>-0.213825</td>\n",
       "      <td>-1.454497</td>\n",
       "    </tr>\n",
       "    <tr>\n",
       "      <th>1</th>\n",
       "      <td>0.0</td>\n",
       "      <td>0.0</td>\n",
       "      <td>0.0</td>\n",
       "      <td>0.0</td>\n",
       "      <td>0.0</td>\n",
       "      <td>1.0</td>\n",
       "      <td>1.0</td>\n",
       "      <td>1.0</td>\n",
       "      <td>1.0</td>\n",
       "      <td>0.0</td>\n",
       "      <td>12.0</td>\n",
       "      <td>0.0</td>\n",
       "      <td>3.0</td>\n",
       "      <td>-0.910705</td>\n",
       "      <td>-1.663547</td>\n",
       "      <td>-0.204183</td>\n",
       "      <td>-0.734162</td>\n",
       "      <td>0.886072</td>\n",
       "      <td>-0.205256</td>\n",
       "    </tr>\n",
       "    <tr>\n",
       "      <th>2</th>\n",
       "      <td>0.0</td>\n",
       "      <td>0.0</td>\n",
       "      <td>0.0</td>\n",
       "      <td>0.0</td>\n",
       "      <td>0.0</td>\n",
       "      <td>1.0</td>\n",
       "      <td>0.0</td>\n",
       "      <td>1.0</td>\n",
       "      <td>0.0</td>\n",
       "      <td>0.0</td>\n",
       "      <td>9.0</td>\n",
       "      <td>0.0</td>\n",
       "      <td>4.0</td>\n",
       "      <td>-0.910705</td>\n",
       "      <td>1.083144</td>\n",
       "      <td>-0.471183</td>\n",
       "      <td>0.470102</td>\n",
       "      <td>-0.213825</td>\n",
       "      <td>-0.326905</td>\n",
       "    </tr>\n",
       "    <tr>\n",
       "      <th>3</th>\n",
       "      <td>0.0</td>\n",
       "      <td>0.0</td>\n",
       "      <td>0.0</td>\n",
       "      <td>0.0</td>\n",
       "      <td>0.0</td>\n",
       "      <td>1.0</td>\n",
       "      <td>0.0</td>\n",
       "      <td>1.0</td>\n",
       "      <td>0.0</td>\n",
       "      <td>0.0</td>\n",
       "      <td>12.0</td>\n",
       "      <td>0.0</td>\n",
       "      <td>2.0</td>\n",
       "      <td>-0.319105</td>\n",
       "      <td>1.370416</td>\n",
       "      <td>0.393760</td>\n",
       "      <td>-1.236844</td>\n",
       "      <td>0.436915</td>\n",
       "      <td>-0.452252</td>\n",
       "    </tr>\n",
       "    <tr>\n",
       "      <th>4</th>\n",
       "      <td>0.0</td>\n",
       "      <td>0.0</td>\n",
       "      <td>0.0</td>\n",
       "      <td>0.0</td>\n",
       "      <td>0.0</td>\n",
       "      <td>1.0</td>\n",
       "      <td>0.0</td>\n",
       "      <td>0.0</td>\n",
       "      <td>0.0</td>\n",
       "      <td>0.0</td>\n",
       "      <td>2.0</td>\n",
       "      <td>0.0</td>\n",
       "      <td>2.0</td>\n",
       "      <td>-0.319105</td>\n",
       "      <td>0.689364</td>\n",
       "      <td>0.393760</td>\n",
       "      <td>0.206115</td>\n",
       "      <td>-1.497220</td>\n",
       "      <td>0.027782</td>\n",
       "    </tr>\n",
       "  </tbody>\n",
       "</table>\n",
       "</div>"
      ],
      "text/plain": [
       "     0    1    2    3    4    5    6    7    8    9    10   11   12        13  \\\n",
       "0  0.0  0.0  0.0  0.0  0.0  0.0  0.0  0.0  0.0  0.0   7.0  0.0  4.0  1.870076   \n",
       "1  0.0  0.0  0.0  0.0  0.0  1.0  1.0  1.0  1.0  0.0  12.0  0.0  3.0 -0.910705   \n",
       "2  0.0  0.0  0.0  0.0  0.0  1.0  0.0  1.0  0.0  0.0   9.0  0.0  4.0 -0.910705   \n",
       "3  0.0  0.0  0.0  0.0  0.0  1.0  0.0  1.0  0.0  0.0  12.0  0.0  2.0 -0.319105   \n",
       "4  0.0  0.0  0.0  0.0  0.0  1.0  0.0  0.0  0.0  0.0   2.0  0.0  2.0 -0.319105   \n",
       "\n",
       "         14        15        16        17        18  \n",
       "0 -0.487092  0.006130 -0.953748 -0.213825 -1.454497  \n",
       "1 -1.663547 -0.204183 -0.734162  0.886072 -0.205256  \n",
       "2  1.083144 -0.471183  0.470102 -0.213825 -0.326905  \n",
       "3  1.370416  0.393760 -1.236844  0.436915 -0.452252  \n",
       "4  0.689364  0.393760  0.206115 -1.497220  0.027782  "
      ]
     },
     "execution_count": 28,
     "metadata": {},
     "output_type": "execute_result"
    }
   ],
   "source": [
    "X_train_feature_engineered_df = pd.read_csv('../data/feature_engineering/X_train_feature_engineered.csv')\n",
    "y_train = pd.read_csv('../data/feature_engineering/y_train.csv')\n",
    "\n",
    "X_train_feature_engineered_df = X_train_feature_engineered_df.drop(\"Unnamed: 0\", axis=1)\n",
    "head(X_train_feature_engineered_df,shape_only=False)"
   ]
  },
  {
   "cell_type": "code",
   "execution_count": 21,
   "metadata": {},
   "outputs": [
    {
     "name": "stdout",
     "output_type": "stream",
     "text": [
      "(247083, 2)\n"
     ]
    },
    {
     "data": {
      "text/html": [
       "<div>\n",
       "<style scoped>\n",
       "    .dataframe tbody tr th:only-of-type {\n",
       "        vertical-align: middle;\n",
       "    }\n",
       "\n",
       "    .dataframe tbody tr th {\n",
       "        vertical-align: top;\n",
       "    }\n",
       "\n",
       "    .dataframe thead th {\n",
       "        text-align: right;\n",
       "    }\n",
       "</style>\n",
       "<table border=\"1\" class=\"dataframe\">\n",
       "  <thead>\n",
       "    <tr style=\"text-align: right;\">\n",
       "      <th></th>\n",
       "      <th>Unnamed: 0</th>\n",
       "      <th>Heart_Disease</th>\n",
       "    </tr>\n",
       "  </thead>\n",
       "  <tbody>\n",
       "    <tr>\n",
       "      <th>0</th>\n",
       "      <td>252191</td>\n",
       "      <td>0</td>\n",
       "    </tr>\n",
       "    <tr>\n",
       "      <th>1</th>\n",
       "      <td>93646</td>\n",
       "      <td>0</td>\n",
       "    </tr>\n",
       "    <tr>\n",
       "      <th>2</th>\n",
       "      <td>182562</td>\n",
       "      <td>1</td>\n",
       "    </tr>\n",
       "    <tr>\n",
       "      <th>3</th>\n",
       "      <td>288342</td>\n",
       "      <td>0</td>\n",
       "    </tr>\n",
       "    <tr>\n",
       "      <th>4</th>\n",
       "      <td>207357</td>\n",
       "      <td>0</td>\n",
       "    </tr>\n",
       "  </tbody>\n",
       "</table>\n",
       "</div>"
      ],
      "text/plain": [
       "   Unnamed: 0  Heart_Disease\n",
       "0      252191              0\n",
       "1       93646              0\n",
       "2      182562              1\n",
       "3      288342              0\n",
       "4      207357              0"
      ]
     },
     "execution_count": 21,
     "metadata": {},
     "output_type": "execute_result"
    }
   ],
   "source": [
    "head(y_train,shape_only=False)"
   ]
  },
  {
   "cell_type": "markdown",
   "metadata": {},
   "source": [
    "## Defining the RFE Model"
   ]
  },
  {
   "cell_type": "code",
   "execution_count": 22,
   "metadata": {},
   "outputs": [],
   "source": [
    "# Define the RFE model with a classifier (e.g., RandomForestClassifier)\n",
    "rfe_model = RFE(estimator=RandomForestClassifier(), n_features_to_select=5)"
   ]
  },
  {
   "cell_type": "markdown",
   "metadata": {},
   "source": [
    "## Fitting the RFE Model to the Feature Engineered Training Data"
   ]
  },
  {
   "cell_type": "code",
   "execution_count": 29,
   "metadata": {},
   "outputs": [],
   "source": [
    "# Fit the RFE model to your training data\n",
    "X_train_feature_selected = rfe_model.fit_transform(X_train_feature_engineered_df, y_train[\"Heart_Disease\"])"
   ]
  },
  {
   "cell_type": "markdown",
   "metadata": {},
   "source": [
    "## Printing Ranking of Features Based on Importance"
   ]
  },
  {
   "cell_type": "code",
   "execution_count": 30,
   "metadata": {},
   "outputs": [
    {
     "name": "stdout",
     "output_type": "stream",
     "text": [
      "Feature Rankings:\n",
      "Feature: 0, Rank: 6\n",
      "Feature: 1, Rank: 8\n",
      "Feature: 2, Rank: 14\n",
      "Feature: 3, Rank: 5\n",
      "Feature: 4, Rank: 15\n",
      "Feature: 5, Rank: 7\n",
      "Feature: 6, Rank: 10\n",
      "Feature: 7, Rank: 13\n",
      "Feature: 8, Rank: 11\n",
      "Feature: 9, Rank: 12\n",
      "Feature: 10, Rank: 2\n",
      "Feature: 11, Rank: 9\n",
      "Feature: 12, Rank: 4\n",
      "Feature: 13, Rank: 3\n",
      "Feature: 14, Rank: 1\n",
      "Feature: 15, Rank: 1\n",
      "Feature: 16, Rank: 1\n",
      "Feature: 17, Rank: 1\n",
      "Feature: 18, Rank: 1\n"
     ]
    }
   ],
   "source": [
    "# Print the ranking of features based on importance\n",
    "print(\"Feature Rankings:\")\n",
    "for feature, rank in zip(X_train_feature_engineered_df.columns, rfe_model.ranking_):\n",
    "    print(f\"Feature: {feature}, Rank: {rank}\")"
   ]
  },
  {
   "cell_type": "markdown",
   "metadata": {},
   "source": [
    "## Comparing the Shape of the Dataset Before and After RFE"
   ]
  },
  {
   "cell_type": "code",
   "execution_count": 32,
   "metadata": {},
   "outputs": [
    {
     "name": "stdout",
     "output_type": "stream",
     "text": [
      "The number of features in X_train_feature_selected is 5, while the number of features in X_train_feature_engineered_df is 19.\n"
     ]
    }
   ],
   "source": [
    "# Get the number of features in each DataFrame\n",
    "num_features_selected = X_train_feature_selected.shape[1]\n",
    "num_features_engineered = X_train_feature_engineered_df.shape[1]\n",
    "\n",
    "# Compare the number of features\n",
    "if num_features_selected == num_features_engineered:\n",
    "  print(\"The number of features in X_train_feature_selected and X_train_feature_engineered_df are the same.\")\n",
    "else:\n",
    "  print(f\"The number of features in X_train_feature_selected is {num_features_selected}, while the number of features in X_train_feature_engineered_df is {num_features_engineered}.\")"
   ]
  },
  {
   "cell_type": "markdown",
   "metadata": {},
   "source": [
    "## Viewing the Feature Selected Dataset After RFE "
   ]
  },
  {
   "cell_type": "code",
   "execution_count": 37,
   "metadata": {},
   "outputs": [
    {
     "name": "stdout",
     "output_type": "stream",
     "text": [
      "(247083, 5)\n"
     ]
    },
    {
     "data": {
      "text/html": [
       "<div>\n",
       "<style scoped>\n",
       "    .dataframe tbody tr th:only-of-type {\n",
       "        vertical-align: middle;\n",
       "    }\n",
       "\n",
       "    .dataframe tbody tr th {\n",
       "        vertical-align: top;\n",
       "    }\n",
       "\n",
       "    .dataframe thead th {\n",
       "        text-align: right;\n",
       "    }\n",
       "</style>\n",
       "<table border=\"1\" class=\"dataframe\">\n",
       "  <thead>\n",
       "    <tr style=\"text-align: right;\">\n",
       "      <th></th>\n",
       "      <th>0</th>\n",
       "      <th>1</th>\n",
       "      <th>2</th>\n",
       "      <th>3</th>\n",
       "      <th>4</th>\n",
       "    </tr>\n",
       "  </thead>\n",
       "  <tbody>\n",
       "    <tr>\n",
       "      <th>0</th>\n",
       "      <td>-0.487092</td>\n",
       "      <td>0.006130</td>\n",
       "      <td>-0.953748</td>\n",
       "      <td>-0.213825</td>\n",
       "      <td>-1.454497</td>\n",
       "    </tr>\n",
       "    <tr>\n",
       "      <th>1</th>\n",
       "      <td>-1.663547</td>\n",
       "      <td>-0.204183</td>\n",
       "      <td>-0.734162</td>\n",
       "      <td>0.886072</td>\n",
       "      <td>-0.205256</td>\n",
       "    </tr>\n",
       "    <tr>\n",
       "      <th>2</th>\n",
       "      <td>1.083144</td>\n",
       "      <td>-0.471183</td>\n",
       "      <td>0.470102</td>\n",
       "      <td>-0.213825</td>\n",
       "      <td>-0.326905</td>\n",
       "    </tr>\n",
       "    <tr>\n",
       "      <th>3</th>\n",
       "      <td>1.370416</td>\n",
       "      <td>0.393760</td>\n",
       "      <td>-1.236844</td>\n",
       "      <td>0.436915</td>\n",
       "      <td>-0.452252</td>\n",
       "    </tr>\n",
       "    <tr>\n",
       "      <th>4</th>\n",
       "      <td>0.689364</td>\n",
       "      <td>0.393760</td>\n",
       "      <td>0.206115</td>\n",
       "      <td>-1.497220</td>\n",
       "      <td>0.027782</td>\n",
       "    </tr>\n",
       "  </tbody>\n",
       "</table>\n",
       "</div>"
      ],
      "text/plain": [
       "          0         1         2         3         4\n",
       "0 -0.487092  0.006130 -0.953748 -0.213825 -1.454497\n",
       "1 -1.663547 -0.204183 -0.734162  0.886072 -0.205256\n",
       "2  1.083144 -0.471183  0.470102 -0.213825 -0.326905\n",
       "3  1.370416  0.393760 -1.236844  0.436915 -0.452252\n",
       "4  0.689364  0.393760  0.206115 -1.497220  0.027782"
      ]
     },
     "execution_count": 37,
     "metadata": {},
     "output_type": "execute_result"
    }
   ],
   "source": [
    "# Convert the NumPy array to a pandas DataFrame\n",
    "X_train_feature_selected_df = pd.DataFrame(X_train_feature_selected)\n",
    "\n",
    "head(X_train_feature_selected_df)"
   ]
  },
  {
   "cell_type": "markdown",
   "metadata": {},
   "source": [
    "## Saving the Feature Selected Dataset After RFE"
   ]
  },
  {
   "cell_type": "code",
   "execution_count": 40,
   "metadata": {},
   "outputs": [],
   "source": [
    "save_csv(X_train_feature_selected_df, \"../data/feature_selection_rfe/X_train_feature_selected.csv\")\n",
    "save_csv(y_train, \"../data/feature_selection_rfe/y_train.csv\")"
   ]
  }
 ],
 "metadata": {
  "kernelspec": {
   "display_name": "Python 3",
   "language": "python",
   "name": "python3"
  },
  "language_info": {
   "codemirror_mode": {
    "name": "ipython",
    "version": 3
   },
   "file_extension": ".py",
   "mimetype": "text/x-python",
   "name": "python",
   "nbconvert_exporter": "python",
   "pygments_lexer": "ipython3",
   "version": "3.11.6"
  }
 },
 "nbformat": 4,
 "nbformat_minor": 2
}
