{
 "cells": [
  {
   "cell_type": "markdown",
   "metadata": {},
   "source": [
    "# Feature Engineering (Categorical Encoding)"
   ]
  },
  {
   "cell_type": "markdown",
   "metadata": {},
   "source": [
    "## Importing Dependencies"
   ]
  },
  {
   "cell_type": "code",
   "execution_count": 2,
   "metadata": {},
   "outputs": [],
   "source": [
    "import pandas as pd\n",
    "from sklearn.model_selection import train_test_split\n",
    "from sklearn.pipeline import make_pipeline\n",
    "from sklearn.preprocessing import OneHotEncoder, StandardScaler, FunctionTransformer, OrdinalEncoder\n",
    "import numpy as np\n",
    "from sklearn.compose import ColumnTransformer\n"
   ]
  },
  {
   "cell_type": "markdown",
   "metadata": {},
   "source": [
    "## Defining Feature Engineering Functions"
   ]
  },
  {
   "cell_type": "code",
   "execution_count": 3,
   "metadata": {},
   "outputs": [],
   "source": [
    "def breakdown_dataset(df):\n",
    "  \"\"\"\n",
    "  Breaks down the dataset and outputs each dimension in its own singular table and the first ten items for that dimension.\n",
    "\n",
    "  Args:\n",
    "    df: A Pandas DataFrame.\n",
    "\n",
    "  Returns:\n",
    "    None.\n",
    "  \"\"\"\n",
    "\n",
    "  # Get the column names of the DataFrame.\n",
    "  column_names = df.columns.tolist()\n",
    "\n",
    "  # Iterate over the column names and print the first ten items for each column.\n",
    "  for column_name in column_names:\n",
    "    print(f\"Column name: {column_name}\")\n",
    "    print(df[column_name].head(10))\n",
    "    print(\"\\n\")\n",
    "\n",
    "def save_csv(df, filename):\n",
    "  \"\"\"\n",
    "  Saves the DataFrame to a CSV file.\n",
    "\n",
    "  Args:\n",
    "    df: A Pandas DataFrame.\n",
    "    filename: The name of the CSV file to save.\n",
    "\n",
    "  Returns:\n",
    "    None.\n",
    "  \"\"\"\n",
    "\n",
    "  df.to_csv(filename)"
   ]
  },
  {
   "cell_type": "markdown",
   "metadata": {},
   "source": [
    "## Importing the Raw Dataset"
   ]
  },
  {
   "cell_type": "code",
   "execution_count": 42,
   "metadata": {},
   "outputs": [],
   "source": [
    "# Read the CSV dataset into a Pandas DataFrame\n",
    "df = pd.read_csv(\".././data/raw/dataset.csv\")"
   ]
  },
  {
   "cell_type": "markdown",
   "metadata": {},
   "source": [
    "## Categorical Encoding of Target Variable"
   ]
  },
  {
   "cell_type": "code",
   "execution_count": 43,
   "metadata": {},
   "outputs": [
    {
     "name": "stdout",
     "output_type": "stream",
     "text": [
      "\n",
      "Heart_Disease\n",
      "0    283883\n",
      "1     24971\n",
      "Name: count, dtype: int64\n"
     ]
    }
   ],
   "source": [
    "df['Heart_Disease'] = df['Heart_Disease'].map({'No':0,'Yes':1})\n",
    "print('')\n",
    "print(df['Heart_Disease'].value_counts())"
   ]
  },
  {
   "cell_type": "markdown",
   "metadata": {},
   "source": [
    "## Splitting the Dataset "
   ]
  },
  {
   "cell_type": "code",
   "execution_count": 6,
   "metadata": {},
   "outputs": [
    {
     "name": "stdout",
     "output_type": "stream",
     "text": [
      "Shape of the training set: (247083, 19)\n",
      "Shape of the test set: (61771, 19)\n"
     ]
    }
   ],
   "source": [
    "# Split the dataset into train and test sets while maintaining the class imbalance\n",
    "train, test = train_test_split(df, test_size=0.2, random_state=22, stratify=df['Heart_Disease'])\n",
    "\n",
    "# Print the shapes of the train and test sets\n",
    "print(f\"Shape of the training set: {train.shape}\")\n",
    "print(f\"Shape of the test set: {test.shape}\")"
   ]
  },
  {
   "cell_type": "markdown",
   "metadata": {},
   "source": [
    "## Ratio of Target Variable"
   ]
  },
  {
   "cell_type": "code",
   "execution_count": 7,
   "metadata": {},
   "outputs": [
    {
     "name": "stdout",
     "output_type": "stream",
     "text": [
      "Train Set:\n",
      "Ratio of people with heart disease to total is 91.91%\n",
      "Ratio of people that don't have heart disease to total is 8.09%\n",
      "\n",
      "\n",
      "Test Set:\n",
      "Ratio of people with heart disease to total is 91.92%\n",
      "Ratio of people that don't have heart disease to total is 8.08%\n"
     ]
    }
   ],
   "source": [
    "# Calculate the ratio of people with heart disease to total for both train and test sets\n",
    "yes_train = train['Heart_Disease'].value_counts()[0]/len(train['Heart_Disease'])*100\n",
    "no_train = train['Heart_Disease'].value_counts()[1]/len(train['Heart_Disease'])*100\n",
    "yes_test = test['Heart_Disease'].value_counts()[0]/len(test['Heart_Disease'])*100\n",
    "no_test = test['Heart_Disease'].value_counts()[1]/len(test['Heart_Disease'])*100\n",
    "\n",
    "# Print the ratios for both train and test sets\n",
    "print('Train Set:')\n",
    "print(f'Ratio of people with heart disease to total is {yes_train:.2f}%')\n",
    "print(f'Ratio of people that don\\'t have heart disease to total is {no_train:.2f}%')\n",
    "print('\\n')\n",
    "print('Test Set:')\n",
    "print(f'Ratio of people with heart disease to total is {yes_test:.2f}%')\n",
    "print(f'Ratio of people that don\\'t have heart disease to total is {no_test:.2f}%')"
   ]
  },
  {
   "cell_type": "markdown",
   "metadata": {},
   "source": [
    "## Splitting X and y variable in the Train and Test Sets"
   ]
  },
  {
   "cell_type": "code",
   "execution_count": 45,
   "metadata": {},
   "outputs": [
    {
     "name": "stdout",
     "output_type": "stream",
     "text": [
      "252191    0\n",
      "93646     0\n",
      "182562    1\n",
      "288342    0\n",
      "207357    0\n",
      "         ..\n",
      "301519    0\n",
      "266566    0\n",
      "192321    0\n",
      "304943    0\n",
      "286010    0\n",
      "Name: Heart_Disease, Length: 247083, dtype: int64\n",
      "156839    0\n",
      "32739     0\n",
      "164728    0\n",
      "252925    0\n",
      "140028    0\n",
      "Name: Heart_Disease, dtype: int64\n",
      "   Column Name\n",
      "0            1\n",
      "1            2\n",
      "2            3\n",
      "3            4\n",
      "4            5\n"
     ]
    }
   ],
   "source": [
    "## Splitting the X and y variables in the train set\n",
    "X_train = train.drop(\"Heart_Disease\", axis=1)\n",
    "X_train = X_train.drop(\"BMI\", axis=1)\n",
    "y_train = train[\"Heart_Disease\"].copy()\n",
    "print(train[\"Heart_Disease\"])\n",
    "\n",
    "## Splitting the X and y variables in the test set\n",
    "X_test = test.drop(\"Heart_Disease\", axis=1)\n",
    "X_test = X_test.drop(\"BMI\", axis=1)\n",
    "y_test = test[\"Heart_Disease\"].copy()\n",
    "print(y_test[0:5])"
   ]
  },
  {
   "cell_type": "markdown",
   "metadata": {},
   "source": [
    "## Creating Numerical and Categorical Columns"
   ]
  },
  {
   "cell_type": "code",
   "execution_count": 9,
   "metadata": {},
   "outputs": [
    {
     "name": "stdout",
     "output_type": "stream",
     "text": [
      "There are 11 Categorical variables\n",
      "There are 6 Numerical variables\n"
     ]
    }
   ],
   "source": [
    "## Creating numerical and categorical columns\n",
    "numerical = X_train.select_dtypes(include=['float64']).columns.sort_values()\n",
    "categorical = df.select_dtypes(include=['object']).columns.sort_values()\n",
    "\n",
    "## Printing the length of numerical and categorical. The total length should have\n",
    "## the same length as our dataframe\n",
    "print(f'There are {len(categorical)} Categorical variables')\n",
    "print(f'There are {len(numerical)} Numerical variables')"
   ]
  },
  {
   "cell_type": "markdown",
   "metadata": {},
   "source": [
    "## Printing the Unique Values in Each Dimension"
   ]
  },
  {
   "cell_type": "code",
   "execution_count": 10,
   "metadata": {},
   "outputs": [
    {
     "data": {
      "text/plain": [
       "General_Health                    5\n",
       "Checkup                           5\n",
       "Exercise                          2\n",
       "Skin_Cancer                       2\n",
       "Other_Cancer                      2\n",
       "Depression                        2\n",
       "Diabetes                          4\n",
       "Arthritis                         2\n",
       "Sex                               2\n",
       "Age_Category                     13\n",
       "Height_(cm)                      98\n",
       "Weight_(kg)                     502\n",
       "Smoking_History                   2\n",
       "Alcohol_Consumption              31\n",
       "Fruit_Consumption                73\n",
       "Green_Vegetables_Consumption     73\n",
       "FriedPotato_Consumption          67\n",
       "dtype: int64"
      ]
     },
     "execution_count": 10,
     "metadata": {},
     "output_type": "execute_result"
    }
   ],
   "source": [
    "X_train.nunique()"
   ]
  },
  {
   "cell_type": "markdown",
   "metadata": {},
   "source": [
    "## Creating Pipelines"
   ]
  },
  {
   "cell_type": "markdown",
   "metadata": {},
   "source": [
    "### Categorical Pipeline"
   ]
  },
  {
   "cell_type": "markdown",
   "metadata": {},
   "source": [
    "For categorical pipeline, only OneHotEncoder will be implemented. Since this dataset has been cleaned and there are no missing values."
   ]
  },
  {
   "cell_type": "code",
   "execution_count": 11,
   "metadata": {},
   "outputs": [],
   "source": [
    "cat_pipeline = make_pipeline(OneHotEncoder(handle_unknown='ignore',drop='first'))"
   ]
  },
  {
   "cell_type": "markdown",
   "metadata": {},
   "source": [
    "### Numerical Pipeline"
   ]
  },
  {
   "cell_type": "markdown",
   "metadata": {},
   "source": [
    "For numerical pipeline, two methods are used:\n",
    "1. Log Transform: From the EDA, most of the numerical functions are skewed right.\n",
    "2. Standard Scaler: The numerical variable will be scaled to put them all on the same scale."
   ]
  },
  {
   "cell_type": "code",
   "execution_count": 12,
   "metadata": {},
   "outputs": [],
   "source": [
    "num_pipeline = make_pipeline(\n",
    "                             FunctionTransformer(np.log1p,feature_names_out='one-to-one'),\n",
    "                             StandardScaler()\n",
    "                            )"
   ]
  },
  {
   "cell_type": "markdown",
   "metadata": {},
   "source": [
    "### Ordinal Pipeline"
   ]
  },
  {
   "cell_type": "markdown",
   "metadata": {},
   "source": [
    "For the ordinal variable, the variables are transformed based on their order. The values with in the lowest order will start with 0 and increases by 1."
   ]
  },
  {
   "cell_type": "code",
   "execution_count": 13,
   "metadata": {},
   "outputs": [],
   "source": [
    "## Age Category Pipeline\n",
    "agecat_pipeline = make_pipeline(\n",
    "        OrdinalEncoder()\n",
    ")\n",
    "\n",
    "## General Health Pipeline\n",
    "genhealth_pipeline = make_pipeline(\n",
    "        OrdinalEncoder(categories=[['Poor','Fair','Good','Very Good','Excellent']])\n",
    ")\n",
    "\n",
    "## Checkup Pipeline\n",
    "checkup_pipeline = make_pipeline(\n",
    "        OrdinalEncoder(categories=[['Within the past year','Within the past 2 years','Within the past 5 years','5 or more years ago','Never']])\n",
    ")"
   ]
  },
  {
   "cell_type": "markdown",
   "metadata": {},
   "source": [
    "## Creating the Pipeline Lists"
   ]
  },
  {
   "cell_type": "code",
   "execution_count": 14,
   "metadata": {},
   "outputs": [],
   "source": [
    "## Setting each column to the pipeline where they will be used\n",
    "num_pipe_col = numerical\n",
    "\n",
    "cat_pipe_col = ['Arthritis', 'Depression', 'Diabetes',\n",
    "       'Exercise', 'Other_Cancer', 'Sex',\n",
    "       'Skin_Cancer', 'Smoking_History']"
   ]
  },
  {
   "cell_type": "markdown",
   "metadata": {},
   "source": [
    "## Finalising the Feature Engineering Pipeline"
   ]
  },
  {
   "cell_type": "code",
   "execution_count": 15,
   "metadata": {},
   "outputs": [
    {
     "data": {
      "text/html": [
       "<style>#sk-container-id-1 {color: black;}#sk-container-id-1 pre{padding: 0;}#sk-container-id-1 div.sk-toggleable {background-color: white;}#sk-container-id-1 label.sk-toggleable__label {cursor: pointer;display: block;width: 100%;margin-bottom: 0;padding: 0.3em;box-sizing: border-box;text-align: center;}#sk-container-id-1 label.sk-toggleable__label-arrow:before {content: \"▸\";float: left;margin-right: 0.25em;color: #696969;}#sk-container-id-1 label.sk-toggleable__label-arrow:hover:before {color: black;}#sk-container-id-1 div.sk-estimator:hover label.sk-toggleable__label-arrow:before {color: black;}#sk-container-id-1 div.sk-toggleable__content {max-height: 0;max-width: 0;overflow: hidden;text-align: left;background-color: #f0f8ff;}#sk-container-id-1 div.sk-toggleable__content pre {margin: 0.2em;color: black;border-radius: 0.25em;background-color: #f0f8ff;}#sk-container-id-1 input.sk-toggleable__control:checked~div.sk-toggleable__content {max-height: 200px;max-width: 100%;overflow: auto;}#sk-container-id-1 input.sk-toggleable__control:checked~label.sk-toggleable__label-arrow:before {content: \"▾\";}#sk-container-id-1 div.sk-estimator input.sk-toggleable__control:checked~label.sk-toggleable__label {background-color: #d4ebff;}#sk-container-id-1 div.sk-label input.sk-toggleable__control:checked~label.sk-toggleable__label {background-color: #d4ebff;}#sk-container-id-1 input.sk-hidden--visually {border: 0;clip: rect(1px 1px 1px 1px);clip: rect(1px, 1px, 1px, 1px);height: 1px;margin: -1px;overflow: hidden;padding: 0;position: absolute;width: 1px;}#sk-container-id-1 div.sk-estimator {font-family: monospace;background-color: #f0f8ff;border: 1px dotted black;border-radius: 0.25em;box-sizing: border-box;margin-bottom: 0.5em;}#sk-container-id-1 div.sk-estimator:hover {background-color: #d4ebff;}#sk-container-id-1 div.sk-parallel-item::after {content: \"\";width: 100%;border-bottom: 1px solid gray;flex-grow: 1;}#sk-container-id-1 div.sk-label:hover label.sk-toggleable__label {background-color: #d4ebff;}#sk-container-id-1 div.sk-serial::before {content: \"\";position: absolute;border-left: 1px solid gray;box-sizing: border-box;top: 0;bottom: 0;left: 50%;z-index: 0;}#sk-container-id-1 div.sk-serial {display: flex;flex-direction: column;align-items: center;background-color: white;padding-right: 0.2em;padding-left: 0.2em;position: relative;}#sk-container-id-1 div.sk-item {position: relative;z-index: 1;}#sk-container-id-1 div.sk-parallel {display: flex;align-items: stretch;justify-content: center;background-color: white;position: relative;}#sk-container-id-1 div.sk-item::before, #sk-container-id-1 div.sk-parallel-item::before {content: \"\";position: absolute;border-left: 1px solid gray;box-sizing: border-box;top: 0;bottom: 0;left: 50%;z-index: -1;}#sk-container-id-1 div.sk-parallel-item {display: flex;flex-direction: column;z-index: 1;position: relative;background-color: white;}#sk-container-id-1 div.sk-parallel-item:first-child::after {align-self: flex-end;width: 50%;}#sk-container-id-1 div.sk-parallel-item:last-child::after {align-self: flex-start;width: 50%;}#sk-container-id-1 div.sk-parallel-item:only-child::after {width: 0;}#sk-container-id-1 div.sk-dashed-wrapped {border: 1px dashed gray;margin: 0 0.4em 0.5em 0.4em;box-sizing: border-box;padding-bottom: 0.4em;background-color: white;}#sk-container-id-1 div.sk-label label {font-family: monospace;font-weight: bold;display: inline-block;line-height: 1.2em;}#sk-container-id-1 div.sk-label-container {text-align: center;}#sk-container-id-1 div.sk-container {/* jupyter's `normalize.less` sets `[hidden] { display: none; }` but bootstrap.min.css set `[hidden] { display: none !important; }` so we also need the `!important` here to be able to override the default hidden behavior on the sphinx rendered scikit-learn.org. See: https://github.com/scikit-learn/scikit-learn/issues/21755 */display: inline-block !important;position: relative;}#sk-container-id-1 div.sk-text-repr-fallback {display: none;}</style><div id=\"sk-container-id-1\" class=\"sk-top-container\"><div class=\"sk-text-repr-fallback\"><pre>ColumnTransformer(remainder=&#x27;passthrough&#x27;,\n",
       "                  transformers=[(&#x27;Categorical&#x27;,\n",
       "                                 Pipeline(steps=[(&#x27;onehotencoder&#x27;,\n",
       "                                                  OneHotEncoder(drop=&#x27;first&#x27;,\n",
       "                                                                handle_unknown=&#x27;ignore&#x27;))]),\n",
       "                                 [&#x27;Arthritis&#x27;, &#x27;Depression&#x27;, &#x27;Diabetes&#x27;,\n",
       "                                  &#x27;Exercise&#x27;, &#x27;Other_Cancer&#x27;, &#x27;Sex&#x27;,\n",
       "                                  &#x27;Skin_Cancer&#x27;, &#x27;Smoking_History&#x27;]),\n",
       "                                (&#x27;Age_Category&#x27;,\n",
       "                                 Pipeline(steps=[(&#x27;ordinalencoder&#x27;,\n",
       "                                                  OrdinalEncoder())]),\n",
       "                                 [&#x27;Age_Category&#x27;]),...\n",
       "                                                                              &#x27;Excellent&#x27;]]))]),\n",
       "                                 [&#x27;General_Health&#x27;]),\n",
       "                                (&#x27;Numerical&#x27;,\n",
       "                                 Pipeline(steps=[(&#x27;functiontransformer&#x27;,\n",
       "                                                  FunctionTransformer(feature_names_out=&#x27;one-to-one&#x27;,\n",
       "                                                                      func=&lt;ufunc &#x27;log1p&#x27;&gt;)),\n",
       "                                                 (&#x27;standardscaler&#x27;,\n",
       "                                                  StandardScaler())]),\n",
       "                                 Index([&#x27;Alcohol_Consumption&#x27;, &#x27;FriedPotato_Consumption&#x27;, &#x27;Fruit_Consumption&#x27;,\n",
       "       &#x27;Green_Vegetables_Consumption&#x27;, &#x27;Height_(cm)&#x27;, &#x27;Weight_(kg)&#x27;],\n",
       "      dtype=&#x27;object&#x27;))])</pre><b>In a Jupyter environment, please rerun this cell to show the HTML representation or trust the notebook. <br />On GitHub, the HTML representation is unable to render, please try loading this page with nbviewer.org.</b></div><div class=\"sk-container\" hidden><div class=\"sk-item sk-dashed-wrapped\"><div class=\"sk-label-container\"><div class=\"sk-label sk-toggleable\"><input class=\"sk-toggleable__control sk-hidden--visually\" id=\"sk-estimator-id-1\" type=\"checkbox\" ><label for=\"sk-estimator-id-1\" class=\"sk-toggleable__label sk-toggleable__label-arrow\">ColumnTransformer</label><div class=\"sk-toggleable__content\"><pre>ColumnTransformer(remainder=&#x27;passthrough&#x27;,\n",
       "                  transformers=[(&#x27;Categorical&#x27;,\n",
       "                                 Pipeline(steps=[(&#x27;onehotencoder&#x27;,\n",
       "                                                  OneHotEncoder(drop=&#x27;first&#x27;,\n",
       "                                                                handle_unknown=&#x27;ignore&#x27;))]),\n",
       "                                 [&#x27;Arthritis&#x27;, &#x27;Depression&#x27;, &#x27;Diabetes&#x27;,\n",
       "                                  &#x27;Exercise&#x27;, &#x27;Other_Cancer&#x27;, &#x27;Sex&#x27;,\n",
       "                                  &#x27;Skin_Cancer&#x27;, &#x27;Smoking_History&#x27;]),\n",
       "                                (&#x27;Age_Category&#x27;,\n",
       "                                 Pipeline(steps=[(&#x27;ordinalencoder&#x27;,\n",
       "                                                  OrdinalEncoder())]),\n",
       "                                 [&#x27;Age_Category&#x27;]),...\n",
       "                                                                              &#x27;Excellent&#x27;]]))]),\n",
       "                                 [&#x27;General_Health&#x27;]),\n",
       "                                (&#x27;Numerical&#x27;,\n",
       "                                 Pipeline(steps=[(&#x27;functiontransformer&#x27;,\n",
       "                                                  FunctionTransformer(feature_names_out=&#x27;one-to-one&#x27;,\n",
       "                                                                      func=&lt;ufunc &#x27;log1p&#x27;&gt;)),\n",
       "                                                 (&#x27;standardscaler&#x27;,\n",
       "                                                  StandardScaler())]),\n",
       "                                 Index([&#x27;Alcohol_Consumption&#x27;, &#x27;FriedPotato_Consumption&#x27;, &#x27;Fruit_Consumption&#x27;,\n",
       "       &#x27;Green_Vegetables_Consumption&#x27;, &#x27;Height_(cm)&#x27;, &#x27;Weight_(kg)&#x27;],\n",
       "      dtype=&#x27;object&#x27;))])</pre></div></div></div><div class=\"sk-parallel\"><div class=\"sk-parallel-item\"><div class=\"sk-item\"><div class=\"sk-label-container\"><div class=\"sk-label sk-toggleable\"><input class=\"sk-toggleable__control sk-hidden--visually\" id=\"sk-estimator-id-2\" type=\"checkbox\" ><label for=\"sk-estimator-id-2\" class=\"sk-toggleable__label sk-toggleable__label-arrow\">Categorical</label><div class=\"sk-toggleable__content\"><pre>[&#x27;Arthritis&#x27;, &#x27;Depression&#x27;, &#x27;Diabetes&#x27;, &#x27;Exercise&#x27;, &#x27;Other_Cancer&#x27;, &#x27;Sex&#x27;, &#x27;Skin_Cancer&#x27;, &#x27;Smoking_History&#x27;]</pre></div></div></div><div class=\"sk-serial\"><div class=\"sk-item\"><div class=\"sk-serial\"><div class=\"sk-item\"><div class=\"sk-estimator sk-toggleable\"><input class=\"sk-toggleable__control sk-hidden--visually\" id=\"sk-estimator-id-3\" type=\"checkbox\" ><label for=\"sk-estimator-id-3\" class=\"sk-toggleable__label sk-toggleable__label-arrow\">OneHotEncoder</label><div class=\"sk-toggleable__content\"><pre>OneHotEncoder(drop=&#x27;first&#x27;, handle_unknown=&#x27;ignore&#x27;)</pre></div></div></div></div></div></div></div></div><div class=\"sk-parallel-item\"><div class=\"sk-item\"><div class=\"sk-label-container\"><div class=\"sk-label sk-toggleable\"><input class=\"sk-toggleable__control sk-hidden--visually\" id=\"sk-estimator-id-4\" type=\"checkbox\" ><label for=\"sk-estimator-id-4\" class=\"sk-toggleable__label sk-toggleable__label-arrow\">Age_Category</label><div class=\"sk-toggleable__content\"><pre>[&#x27;Age_Category&#x27;]</pre></div></div></div><div class=\"sk-serial\"><div class=\"sk-item\"><div class=\"sk-serial\"><div class=\"sk-item\"><div class=\"sk-estimator sk-toggleable\"><input class=\"sk-toggleable__control sk-hidden--visually\" id=\"sk-estimator-id-5\" type=\"checkbox\" ><label for=\"sk-estimator-id-5\" class=\"sk-toggleable__label sk-toggleable__label-arrow\">OrdinalEncoder</label><div class=\"sk-toggleable__content\"><pre>OrdinalEncoder()</pre></div></div></div></div></div></div></div></div><div class=\"sk-parallel-item\"><div class=\"sk-item\"><div class=\"sk-label-container\"><div class=\"sk-label sk-toggleable\"><input class=\"sk-toggleable__control sk-hidden--visually\" id=\"sk-estimator-id-6\" type=\"checkbox\" ><label for=\"sk-estimator-id-6\" class=\"sk-toggleable__label sk-toggleable__label-arrow\">Checkup</label><div class=\"sk-toggleable__content\"><pre>[&#x27;Checkup&#x27;]</pre></div></div></div><div class=\"sk-serial\"><div class=\"sk-item\"><div class=\"sk-serial\"><div class=\"sk-item\"><div class=\"sk-estimator sk-toggleable\"><input class=\"sk-toggleable__control sk-hidden--visually\" id=\"sk-estimator-id-7\" type=\"checkbox\" ><label for=\"sk-estimator-id-7\" class=\"sk-toggleable__label sk-toggleable__label-arrow\">OrdinalEncoder</label><div class=\"sk-toggleable__content\"><pre>OrdinalEncoder(categories=[[&#x27;Within the past year&#x27;, &#x27;Within the past 2 years&#x27;,\n",
       "                            &#x27;Within the past 5 years&#x27;, &#x27;5 or more years ago&#x27;,\n",
       "                            &#x27;Never&#x27;]])</pre></div></div></div></div></div></div></div></div><div class=\"sk-parallel-item\"><div class=\"sk-item\"><div class=\"sk-label-container\"><div class=\"sk-label sk-toggleable\"><input class=\"sk-toggleable__control sk-hidden--visually\" id=\"sk-estimator-id-8\" type=\"checkbox\" ><label for=\"sk-estimator-id-8\" class=\"sk-toggleable__label sk-toggleable__label-arrow\">Gen_health</label><div class=\"sk-toggleable__content\"><pre>[&#x27;General_Health&#x27;]</pre></div></div></div><div class=\"sk-serial\"><div class=\"sk-item\"><div class=\"sk-serial\"><div class=\"sk-item\"><div class=\"sk-estimator sk-toggleable\"><input class=\"sk-toggleable__control sk-hidden--visually\" id=\"sk-estimator-id-9\" type=\"checkbox\" ><label for=\"sk-estimator-id-9\" class=\"sk-toggleable__label sk-toggleable__label-arrow\">OrdinalEncoder</label><div class=\"sk-toggleable__content\"><pre>OrdinalEncoder(categories=[[&#x27;Poor&#x27;, &#x27;Fair&#x27;, &#x27;Good&#x27;, &#x27;Very Good&#x27;, &#x27;Excellent&#x27;]])</pre></div></div></div></div></div></div></div></div><div class=\"sk-parallel-item\"><div class=\"sk-item\"><div class=\"sk-label-container\"><div class=\"sk-label sk-toggleable\"><input class=\"sk-toggleable__control sk-hidden--visually\" id=\"sk-estimator-id-10\" type=\"checkbox\" ><label for=\"sk-estimator-id-10\" class=\"sk-toggleable__label sk-toggleable__label-arrow\">Numerical</label><div class=\"sk-toggleable__content\"><pre>Index([&#x27;Alcohol_Consumption&#x27;, &#x27;FriedPotato_Consumption&#x27;, &#x27;Fruit_Consumption&#x27;,\n",
       "       &#x27;Green_Vegetables_Consumption&#x27;, &#x27;Height_(cm)&#x27;, &#x27;Weight_(kg)&#x27;],\n",
       "      dtype=&#x27;object&#x27;)</pre></div></div></div><div class=\"sk-serial\"><div class=\"sk-item\"><div class=\"sk-serial\"><div class=\"sk-item\"><div class=\"sk-estimator sk-toggleable\"><input class=\"sk-toggleable__control sk-hidden--visually\" id=\"sk-estimator-id-11\" type=\"checkbox\" ><label for=\"sk-estimator-id-11\" class=\"sk-toggleable__label sk-toggleable__label-arrow\">FunctionTransformer</label><div class=\"sk-toggleable__content\"><pre>FunctionTransformer(feature_names_out=&#x27;one-to-one&#x27;, func=&lt;ufunc &#x27;log1p&#x27;&gt;)</pre></div></div></div><div class=\"sk-item\"><div class=\"sk-estimator sk-toggleable\"><input class=\"sk-toggleable__control sk-hidden--visually\" id=\"sk-estimator-id-12\" type=\"checkbox\" ><label for=\"sk-estimator-id-12\" class=\"sk-toggleable__label sk-toggleable__label-arrow\">StandardScaler</label><div class=\"sk-toggleable__content\"><pre>StandardScaler()</pre></div></div></div></div></div></div></div></div><div class=\"sk-parallel-item\"><div class=\"sk-item\"><div class=\"sk-label-container\"><div class=\"sk-label sk-toggleable\"><input class=\"sk-toggleable__control sk-hidden--visually\" id=\"sk-estimator-id-13\" type=\"checkbox\" ><label for=\"sk-estimator-id-13\" class=\"sk-toggleable__label sk-toggleable__label-arrow\">remainder</label><div class=\"sk-toggleable__content\"><pre></pre></div></div></div><div class=\"sk-serial\"><div class=\"sk-item\"><div class=\"sk-estimator sk-toggleable\"><input class=\"sk-toggleable__control sk-hidden--visually\" id=\"sk-estimator-id-14\" type=\"checkbox\" ><label for=\"sk-estimator-id-14\" class=\"sk-toggleable__label sk-toggleable__label-arrow\">passthrough</label><div class=\"sk-toggleable__content\"><pre>passthrough</pre></div></div></div></div></div></div></div></div></div></div>"
      ],
      "text/plain": [
       "ColumnTransformer(remainder='passthrough',\n",
       "                  transformers=[('Categorical',\n",
       "                                 Pipeline(steps=[('onehotencoder',\n",
       "                                                  OneHotEncoder(drop='first',\n",
       "                                                                handle_unknown='ignore'))]),\n",
       "                                 ['Arthritis', 'Depression', 'Diabetes',\n",
       "                                  'Exercise', 'Other_Cancer', 'Sex',\n",
       "                                  'Skin_Cancer', 'Smoking_History']),\n",
       "                                ('Age_Category',\n",
       "                                 Pipeline(steps=[('ordinalencoder',\n",
       "                                                  OrdinalEncoder())]),\n",
       "                                 ['Age_Category']),...\n",
       "                                                                              'Excellent']]))]),\n",
       "                                 ['General_Health']),\n",
       "                                ('Numerical',\n",
       "                                 Pipeline(steps=[('functiontransformer',\n",
       "                                                  FunctionTransformer(feature_names_out='one-to-one',\n",
       "                                                                      func=<ufunc 'log1p'>)),\n",
       "                                                 ('standardscaler',\n",
       "                                                  StandardScaler())]),\n",
       "                                 Index(['Alcohol_Consumption', 'FriedPotato_Consumption', 'Fruit_Consumption',\n",
       "       'Green_Vegetables_Consumption', 'Height_(cm)', 'Weight_(kg)'],\n",
       "      dtype='object'))])"
      ]
     },
     "execution_count": 15,
     "metadata": {},
     "output_type": "execute_result"
    }
   ],
   "source": [
    "## Combining all the pipelines and creating a main pipeline to enter all the data\n",
    "preprocessing = ColumnTransformer([\n",
    "    ('Categorical', cat_pipeline,   cat_pipe_col),\n",
    "    ('Age_Category',agecat_pipeline,['Age_Category']),\n",
    "    ('Checkup',checkup_pipeline,['Checkup']),\n",
    "    ('Gen_health',genhealth_pipeline,['General_Health']),\n",
    "    ('Numerical',   num_pipeline,  num_pipe_col),\n",
    "],remainder='passthrough')\n",
    "preprocessing"
   ]
  },
  {
   "cell_type": "markdown",
   "metadata": {},
   "source": [
    "## Using the Feature Engineering Pipeline"
   ]
  },
  {
   "cell_type": "code",
   "execution_count": 46,
   "metadata": {},
   "outputs": [
    {
     "name": "stdout",
     "output_type": "stream",
     "text": [
      "Shape before the preprocessing:\n",
      "(247083, 17)\n",
      "Shape after the preprocessing:\n",
      "(247083, 19)\n"
     ]
    }
   ],
   "source": [
    "## Using preprocessing pipeline\n",
    "print('Shape before the preprocessing:')\n",
    "print(X_train.shape)\n",
    "\n",
    "X_train_feature_engineered = preprocessing.fit_transform(X_train)\n",
    "\n",
    "print('Shape after the preprocessing:')\n",
    "print(X_train_feature_engineered.shape)"
   ]
  },
  {
   "cell_type": "markdown",
   "metadata": {},
   "source": [
    "## Viewing the Feature Engineered Data"
   ]
  },
  {
   "cell_type": "code",
   "execution_count": 47,
   "metadata": {},
   "outputs": [
    {
     "name": "stdout",
     "output_type": "stream",
     "text": [
      "Column name: 0\n",
      "0    0.0\n",
      "1    0.0\n",
      "2    0.0\n",
      "3    0.0\n",
      "4    0.0\n",
      "5    1.0\n",
      "6    0.0\n",
      "7    0.0\n",
      "8    0.0\n",
      "9    0.0\n",
      "Name: 0, dtype: float64\n",
      "\n",
      "\n",
      "Column name: 1\n",
      "0    0.0\n",
      "1    0.0\n",
      "2    0.0\n",
      "3    0.0\n",
      "4    0.0\n",
      "5    0.0\n",
      "6    0.0\n",
      "7    0.0\n",
      "8    0.0\n",
      "9    0.0\n",
      "Name: 1, dtype: float64\n",
      "\n",
      "\n",
      "Column name: 2\n",
      "0    0.0\n",
      "1    0.0\n",
      "2    0.0\n",
      "3    0.0\n",
      "4    0.0\n",
      "5    0.0\n",
      "6    0.0\n",
      "7    0.0\n",
      "8    0.0\n",
      "9    0.0\n",
      "Name: 2, dtype: float64\n",
      "\n",
      "\n",
      "Column name: 3\n",
      "0    0.0\n",
      "1    0.0\n",
      "2    0.0\n",
      "3    0.0\n",
      "4    0.0\n",
      "5    0.0\n",
      "6    0.0\n",
      "7    0.0\n",
      "8    0.0\n",
      "9    1.0\n",
      "Name: 3, dtype: float64\n",
      "\n",
      "\n",
      "Column name: 4\n",
      "0    0.0\n",
      "1    0.0\n",
      "2    0.0\n",
      "3    0.0\n",
      "4    0.0\n",
      "5    0.0\n",
      "6    0.0\n",
      "7    0.0\n",
      "8    0.0\n",
      "9    0.0\n",
      "Name: 4, dtype: float64\n",
      "\n",
      "\n",
      "Column name: 5\n",
      "0    0.0\n",
      "1    1.0\n",
      "2    1.0\n",
      "3    1.0\n",
      "4    1.0\n",
      "5    1.0\n",
      "6    1.0\n",
      "7    1.0\n",
      "8    1.0\n",
      "9    1.0\n",
      "Name: 5, dtype: float64\n",
      "\n",
      "\n",
      "Column name: 6\n",
      "0    0.0\n",
      "1    1.0\n",
      "2    0.0\n",
      "3    0.0\n",
      "4    0.0\n",
      "5    0.0\n",
      "6    0.0\n",
      "7    0.0\n",
      "8    0.0\n",
      "9    0.0\n",
      "Name: 6, dtype: float64\n",
      "\n",
      "\n",
      "Column name: 7\n",
      "0    0.0\n",
      "1    1.0\n",
      "2    1.0\n",
      "3    1.0\n",
      "4    0.0\n",
      "5    0.0\n",
      "6    1.0\n",
      "7    0.0\n",
      "8    0.0\n",
      "9    1.0\n",
      "Name: 7, dtype: float64\n",
      "\n",
      "\n",
      "Column name: 8\n",
      "0    0.0\n",
      "1    1.0\n",
      "2    0.0\n",
      "3    0.0\n",
      "4    0.0\n",
      "5    1.0\n",
      "6    0.0\n",
      "7    0.0\n",
      "8    0.0\n",
      "9    0.0\n",
      "Name: 8, dtype: float64\n",
      "\n",
      "\n",
      "Column name: 9\n",
      "0    0.0\n",
      "1    0.0\n",
      "2    0.0\n",
      "3    0.0\n",
      "4    0.0\n",
      "5    0.0\n",
      "6    1.0\n",
      "7    0.0\n",
      "8    0.0\n",
      "9    0.0\n",
      "Name: 9, dtype: float64\n",
      "\n",
      "\n",
      "Column name: 10\n",
      "0     7.0\n",
      "1    12.0\n",
      "2     9.0\n",
      "3    12.0\n",
      "4     2.0\n",
      "5    12.0\n",
      "6     3.0\n",
      "7     8.0\n",
      "8     6.0\n",
      "9     2.0\n",
      "Name: 10, dtype: float64\n",
      "\n",
      "\n",
      "Column name: 11\n",
      "0    0.0\n",
      "1    0.0\n",
      "2    0.0\n",
      "3    0.0\n",
      "4    0.0\n",
      "5    0.0\n",
      "6    2.0\n",
      "7    0.0\n",
      "8    1.0\n",
      "9    1.0\n",
      "Name: 11, dtype: float64\n",
      "\n",
      "\n",
      "Column name: 12\n",
      "0    4.0\n",
      "1    3.0\n",
      "2    4.0\n",
      "3    2.0\n",
      "4    2.0\n",
      "5    0.0\n",
      "6    3.0\n",
      "7    3.0\n",
      "8    4.0\n",
      "9    2.0\n",
      "Name: 12, dtype: float64\n",
      "\n",
      "\n",
      "Column name: 13\n",
      "0    1.870076\n",
      "1   -0.910705\n",
      "2   -0.910705\n",
      "3   -0.319105\n",
      "4   -0.319105\n",
      "5    0.462948\n",
      "6   -0.319105\n",
      "7    1.135895\n",
      "8   -0.319105\n",
      "9   -0.910705\n",
      "Name: 13, dtype: float64\n",
      "\n",
      "\n",
      "Column name: 14\n",
      "0   -0.487092\n",
      "1   -1.663547\n",
      "2    1.083144\n",
      "3    1.370416\n",
      "4    0.689364\n",
      "5    1.370416\n",
      "6   -0.179026\n",
      "7   -1.663547\n",
      "8   -0.921286\n",
      "9   -1.663547\n",
      "Name: 14, dtype: float64\n",
      "\n",
      "\n",
      "Column name: 15\n",
      "0    0.006130\n",
      "1   -0.204183\n",
      "2   -0.471183\n",
      "3    0.393760\n",
      "4    0.393760\n",
      "5    0.393760\n",
      "6   -1.087306\n",
      "7    0.393760\n",
      "8    1.465558\n",
      "9   -2.334166\n",
      "Name: 15, dtype: float64\n",
      "\n",
      "\n",
      "Column name: 16\n",
      "0   -0.953748\n",
      "1   -0.734162\n",
      "2    0.470102\n",
      "3   -1.236844\n",
      "4    0.206115\n",
      "5    0.206115\n",
      "6    0.206115\n",
      "7    1.061298\n",
      "8   -0.155747\n",
      "9    0.041725\n",
      "Name: 16, dtype: float64\n",
      "\n",
      "\n",
      "Column name: 17\n",
      "0   -0.213825\n",
      "1    0.886072\n",
      "2   -0.213825\n",
      "3    0.436915\n",
      "4   -1.497220\n",
      "5    0.253668\n",
      "6   -0.501007\n",
      "7   -1.497220\n",
      "8   -0.213825\n",
      "9    0.253668\n",
      "Name: 17, dtype: float64\n",
      "\n",
      "\n",
      "Column name: 18\n",
      "0   -1.454497\n",
      "1   -0.205256\n",
      "2   -0.326905\n",
      "3   -0.452252\n",
      "4    0.027782\n",
      "5   -0.452252\n",
      "6    0.457279\n",
      "7   -0.714388\n",
      "8   -0.714388\n",
      "9    0.027782\n",
      "Name: 18, dtype: float64\n",
      "\n",
      "\n"
     ]
    }
   ],
   "source": [
    "X_train_feature_engineered_df = pd.DataFrame(X_train_feature_engineered)\n",
    "breakdown_dataset(X_train_feature_engineered_df)"
   ]
  },
  {
   "cell_type": "markdown",
   "metadata": {},
   "source": [
    "## Saving the Feature Engineered Dataset to CSV File"
   ]
  },
  {
   "cell_type": "code",
   "execution_count": 48,
   "metadata": {},
   "outputs": [],
   "source": [
    "save_csv(X_train_feature_engineered_df, \"../data/feature_engineering/X_train_feature_engineered.csv\")\n",
    "save_csv(y_train, \"../data/feature_engineering/y_train.csv\")"
   ]
  }
 ],
 "metadata": {
  "kernelspec": {
   "display_name": "Python 3",
   "language": "python",
   "name": "python3"
  },
  "language_info": {
   "codemirror_mode": {
    "name": "ipython",
    "version": 3
   },
   "file_extension": ".py",
   "mimetype": "text/x-python",
   "name": "python",
   "nbconvert_exporter": "python",
   "pygments_lexer": "ipython3",
   "version": "3.11.6"
  }
 },
 "nbformat": 4,
 "nbformat_minor": 2
}
